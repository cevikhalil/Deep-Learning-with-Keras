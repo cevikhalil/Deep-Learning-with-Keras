{
  "nbformat": 4,
  "nbformat_minor": 0,
  "metadata": {
    "colab": {
      "name": "Katmanlar ve Modeller.ipynb",
      "provenance": [],
      "collapsed_sections": []
    },
    "kernelspec": {
      "name": "python3",
      "display_name": "Python 3"
    }
  },
  "cells": [
    {
      "cell_type": "markdown",
      "metadata": {
        "id": "BbtcDlgGoeGH"
      },
      "source": [
        "## KATMANLAR"
      ]
    },
    {
      "cell_type": "code",
      "metadata": {
        "id": "tpecYtPec71u"
      },
      "source": [
        "from keras import layers\n",
        "\n",
        "layer = layers.Dense(32,input_shape=(784, ))"
      ],
      "execution_count": null,
      "outputs": []
    },
    {
      "cell_type": "markdown",
      "metadata": {
        "id": "CwMQ3qkTogt8"
      },
      "source": [
        "## MODELLER\n"
      ]
    },
    {
      "cell_type": "code",
      "metadata": {
        "id": "01ZkF335ojN-"
      },
      "source": [
        "from keras import models\n",
        "\n",
        "model = models.Sequential()\n",
        "model.add(layers.Dense(32,input_shape=(784, )))\n",
        "model.add(layers.Dense(32))\n",
        "model.summary()"
      ],
      "execution_count": null,
      "outputs": []
    }
  ]
}
