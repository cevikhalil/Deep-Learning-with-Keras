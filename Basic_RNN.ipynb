{
  "nbformat": 4,
  "nbformat_minor": 0,
  "metadata": {
    "colab": {
      "name": "Basit_RNN.ipynb",
      "provenance": [],
      "collapsed_sections": []
    },
    "kernelspec": {
      "name": "python3",
      "display_name": "Python 3"
    }
  },
  "cells": [
    {
      "cell_type": "code",
      "metadata": {
        "id": "HmT0grg7Cgqy"
      },
      "source": [
        "import numpy as np"
      ],
      "execution_count": null,
      "outputs": []
    },
    {
      "cell_type": "code",
      "metadata": {
        "id": "VKGjm8X3-B4L"
      },
      "source": [
        "timesteps = 100\n",
        "input_features = 32\n",
        "output_features = 64"
      ],
      "execution_count": null,
      "outputs": []
    },
    {
      "cell_type": "code",
      "metadata": {
        "id": "xKjfW714-8pL"
      },
      "source": [
        "inputs = np.random.random((timesteps, input_features))\n",
        "state_t = np.zeros((output_features))\n",
        "W = np.random.random((output_features,input_features))\n",
        "U = np.random.random((output_features, output_features))\n",
        "b = np.random.random((output_features))"
      ],
      "execution_count": null,
      "outputs": []
    },
    {
      "cell_type": "code",
      "metadata": {
        "id": "LRLsW2Pe--_8"
      },
      "source": [
        "successive_outputs = []\n",
        "for input_t in inputs:\n",
        "  output_t = np.tanh(np.dot(W, input_t) +np.dot(U, state_t) + b)\n",
        "  successive_outputs.append(output_t)\n",
        "  state_t = output_features\n",
        "\n",
        "final_output_sequence = np.concatenate(successive_outputs, axis=0)\n",
        "output_t = np.tanh(np.dot(W, input_t) + np.dot(U, state_t) + b)"
      ],
      "execution_count": null,
      "outputs": []
    }
  ]
}
