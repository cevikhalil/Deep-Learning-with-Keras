{
  "nbformat": 4,
  "nbformat_minor": 0,
  "metadata": {
    "colab": {
      "name": "MNIST_YSA.ipynb",
      "provenance": [],
      "collapsed_sections": []
    },
    "kernelspec": {
      "name": "python3",
      "display_name": "Python 3"
    }
  },
  "cells": [
    {
      "cell_type": "markdown",
      "metadata": {
        "id": "aZ5eZrhzU23e"
      },
      "source": [
        "## MNIST VERİ KÜMESİNİ KULLANARAK YAPAY SİNİR AĞLARI İLE RAKAM SINIFLANDIRMA"
      ]
    },
    {
      "cell_type": "markdown",
      "metadata": {
        "id": "BfRdNvxuVBDg"
      },
      "source": [
        "## MNIST VERİ KÜMESİNİ YÜKLEMEK"
      ]
    },
    {
      "cell_type": "code",
      "metadata": {
        "id": "jgTnSw7qT30i"
      },
      "source": [
        "from keras.datasets import mnist\n",
        "\n",
        "(train_images,train_labels),(test_images, test_labels) = mnist.load_data()"
      ],
      "execution_count": null,
      "outputs": []
    },
    {
      "cell_type": "code",
      "metadata": {
        "id": "JUrIzyclUQXS",
        "outputId": "c86b614f-226c-4681-b009-7e19984590fa",
        "colab": {
          "base_uri": "https://localhost:8080/",
          "height": 34
        }
      },
      "source": [
        "train_images.shape"
      ],
      "execution_count": null,
      "outputs": [
        {
          "output_type": "execute_result",
          "data": {
            "text/plain": [
              "(60000, 28, 28)"
            ]
          },
          "metadata": {
            "tags": []
          },
          "execution_count": 6
        }
      ]
    },
    {
      "cell_type": "code",
      "metadata": {
        "id": "vkr4-F-jUWZM",
        "outputId": "fc32d64c-ea48-4b2d-cf20-3a3a79793ab0",
        "colab": {
          "base_uri": "https://localhost:8080/",
          "height": 34
        }
      },
      "source": [
        "len(train_images)"
      ],
      "execution_count": null,
      "outputs": [
        {
          "output_type": "execute_result",
          "data": {
            "text/plain": [
              "60000"
            ]
          },
          "metadata": {
            "tags": []
          },
          "execution_count": 3
        }
      ]
    },
    {
      "cell_type": "code",
      "metadata": {
        "id": "X3WBpCsuUct9",
        "outputId": "527ea3da-a5d6-4e03-823a-2fdef99cabde",
        "colab": {
          "base_uri": "https://localhost:8080/",
          "height": 34
        }
      },
      "source": [
        "test_images.shape"
      ],
      "execution_count": null,
      "outputs": [
        {
          "output_type": "execute_result",
          "data": {
            "text/plain": [
              "(10000, 28, 28)"
            ]
          },
          "metadata": {
            "tags": []
          },
          "execution_count": 9
        }
      ]
    },
    {
      "cell_type": "markdown",
      "metadata": {
        "id": "u3mc4mtdVO84"
      },
      "source": [
        "## YAPAY SİNİR AĞI MİMARİSİ"
      ]
    },
    {
      "cell_type": "code",
      "metadata": {
        "id": "PI3XXFN_VVws"
      },
      "source": [
        "from keras import models\n",
        "from keras import layers\n",
        "network = models.Sequential()\n",
        "network.add(layers.Dense(512,activation = 'relu', input_shape = (28*28,)))\n",
        "network.add(layers.Dense(10, activation = 'softmax'))"
      ],
      "execution_count": null,
      "outputs": []
    },
    {
      "cell_type": "markdown",
      "metadata": {
        "id": "mDJFI1s2V7BA"
      },
      "source": [
        "## YSA MODELİNİN DERLENMESİ"
      ]
    },
    {
      "cell_type": "code",
      "metadata": {
        "id": "tR4O2lpdV_ds"
      },
      "source": [
        "network.compile(optimizer = 'rmsprop', \n",
        "                loss = 'categorical_crossentropy',\n",
        "                metrics = ['accuracy'])"
      ],
      "execution_count": null,
      "outputs": []
    },
    {
      "cell_type": "markdown",
      "metadata": {
        "id": "0GDtygymWrLk"
      },
      "source": [
        "## GİRİŞLERİN VE ETİKETLERİN HAZIRLANMASI"
      ]
    },
    {
      "cell_type": "code",
      "metadata": {
        "id": "m391gTUiWuKx"
      },
      "source": [
        "train_images = train_images.reshape((60000, 28*28))\n",
        "train_images = train_images.astype('float32')/255 # normalizasyon\n",
        "\n",
        "test_images = test_images.reshape((10000, 28*28))\n",
        "test_images = test_images.astype('float32')/255 # normalizasyon"
      ],
      "execution_count": null,
      "outputs": []
    },
    {
      "cell_type": "code",
      "metadata": {
        "id": "JChYi2MoXM0G"
      },
      "source": [
        "from keras.utils import to_categorical\n",
        "\n",
        "train_labels = to_categorical(train_labels)\n",
        "test_labels = to_categorical(test_labels)"
      ],
      "execution_count": null,
      "outputs": []
    },
    {
      "cell_type": "markdown",
      "metadata": {
        "id": "7LerFJMzYOWi"
      },
      "source": [
        "## YSA MODELİNİN EĞİTİLMESİ"
      ]
    },
    {
      "cell_type": "code",
      "metadata": {
        "id": "ruqSN_U5YTMQ",
        "outputId": "ea64a961-7595-4aca-8eae-1023f6583093",
        "colab": {
          "base_uri": "https://localhost:8080/",
          "height": 202
        }
      },
      "source": [
        "network.fit(train_images,train_labels,epochs=5,batch_size=128)"
      ],
      "execution_count": null,
      "outputs": [
        {
          "output_type": "stream",
          "text": [
            "Epoch 1/5\n",
            "469/469 [==============================] - 5s 11ms/step - loss: 0.2571 - accuracy: 0.9257\n",
            "Epoch 2/5\n",
            "469/469 [==============================] - 5s 11ms/step - loss: 0.1039 - accuracy: 0.9695\n",
            "Epoch 3/5\n",
            "469/469 [==============================] - 5s 11ms/step - loss: 0.0672 - accuracy: 0.9798\n",
            "Epoch 4/5\n",
            "469/469 [==============================] - 5s 11ms/step - loss: 0.0491 - accuracy: 0.9855\n",
            "Epoch 5/5\n",
            "469/469 [==============================] - 5s 11ms/step - loss: 0.0364 - accuracy: 0.9892\n"
          ],
          "name": "stdout"
        },
        {
          "output_type": "execute_result",
          "data": {
            "text/plain": [
              "<tensorflow.python.keras.callbacks.History at 0x7f3523d29940>"
            ]
          },
          "metadata": {
            "tags": []
          },
          "execution_count": 41
        }
      ]
    },
    {
      "cell_type": "code",
      "metadata": {
        "id": "tAiV6JYQZJIA",
        "outputId": "d1ecea60-045f-4522-b7c3-39c2191b30e4",
        "colab": {
          "base_uri": "https://localhost:8080/",
          "height": 67
        }
      },
      "source": [
        "test_loss, test_accuracy = network.evaluate(test_images,test_labels)\n",
        "print(\"Test Loss:\",test_loss)\n",
        "print(\"Test Accuracy:\",test_accuracy)"
      ],
      "execution_count": null,
      "outputs": [
        {
          "output_type": "stream",
          "text": [
            "313/313 [==============================] - 1s 3ms/step - loss: 0.0790 - accuracy: 0.9768\n",
            "Test Loss: 0.07904146611690521\n",
            "Test Accuracy: 0.9768000245094299\n"
          ],
          "name": "stdout"
        }
      ]
    }
  ]
}