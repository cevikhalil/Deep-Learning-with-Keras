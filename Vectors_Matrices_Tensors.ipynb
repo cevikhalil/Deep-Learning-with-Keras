{
  "nbformat": 4,
  "nbformat_minor": 0,
  "metadata": {
    "colab": {
      "name": "Vektörler/Matrisler/Tensörler.ipynb",
      "provenance": [],
      "collapsed_sections": [
        "gta6Mh5YaQyj"
      ]
    },
    "kernelspec": {
      "name": "python3",
      "display_name": "Python 3"
    }
  },
  "cells": [
    {
      "cell_type": "markdown",
      "metadata": {
        "id": "gta6Mh5YaQyj"
      },
      "source": [
        "## Vektörler"
      ]
    },
    {
      "cell_type": "code",
      "metadata": {
        "id": "RiDfGbtZaKll",
        "outputId": "32e74a0e-b15a-4a8f-8770-bfee65044a86",
        "colab": {
          "base_uri": "https://localhost:8080/",
          "height": 34
        }
      },
      "source": [
        "import numpy as np\n",
        "\n",
        "x = np.array(7)\n",
        "x"
      ],
      "execution_count": null,
      "outputs": [
        {
          "output_type": "execute_result",
          "data": {
            "text/plain": [
              "array(7)"
            ]
          },
          "metadata": {
            "tags": []
          },
          "execution_count": 14
        }
      ]
    },
    {
      "cell_type": "code",
      "metadata": {
        "id": "q3-9oPqBanA7",
        "outputId": "838ba3b8-e594-4ac0-97f9-f1d0c5420e31",
        "colab": {
          "base_uri": "https://localhost:8080/",
          "height": 34
        }
      },
      "source": [
        "x.ndim"
      ],
      "execution_count": null,
      "outputs": [
        {
          "output_type": "execute_result",
          "data": {
            "text/plain": [
              "0"
            ]
          },
          "metadata": {
            "tags": []
          },
          "execution_count": 5
        }
      ]
    },
    {
      "cell_type": "code",
      "metadata": {
        "id": "JuTeIO1yargu",
        "outputId": "68c7d8e6-68e5-47f1-ca4b-056bc6834fab",
        "colab": {
          "base_uri": "https://localhost:8080/",
          "height": 34
        }
      },
      "source": [
        "x = np.array([7,14,21])\n",
        "x"
      ],
      "execution_count": null,
      "outputs": [
        {
          "output_type": "execute_result",
          "data": {
            "text/plain": [
              "array([ 7, 14, 21])"
            ]
          },
          "metadata": {
            "tags": []
          },
          "execution_count": 16
        }
      ]
    },
    {
      "cell_type": "code",
      "metadata": {
        "id": "x8SpUAffa1e3",
        "outputId": "f2ccf141-a9b7-45e6-f77d-3b9af7ac20b5",
        "colab": {
          "base_uri": "https://localhost:8080/",
          "height": 34
        }
      },
      "source": [
        "x.ndim"
      ],
      "execution_count": null,
      "outputs": [
        {
          "output_type": "execute_result",
          "data": {
            "text/plain": [
              "1"
            ]
          },
          "metadata": {
            "tags": []
          },
          "execution_count": 17
        }
      ]
    },
    {
      "cell_type": "code",
      "metadata": {
        "id": "jEYgeYeibMoG",
        "outputId": "ba6c3223-0832-4c26-89f2-cb5ab0f8e1f9",
        "colab": {
          "base_uri": "https://localhost:8080/",
          "height": 67
        }
      },
      "source": [
        "x = np.array([[7,14,21],[7,14,21],[7,14,21]])\n",
        "x"
      ],
      "execution_count": null,
      "outputs": [
        {
          "output_type": "execute_result",
          "data": {
            "text/plain": [
              "array([[ 7, 14, 21],\n",
              "       [ 7, 14, 21],\n",
              "       [ 7, 14, 21]])"
            ]
          },
          "metadata": {
            "tags": []
          },
          "execution_count": 20
        }
      ]
    },
    {
      "cell_type": "code",
      "metadata": {
        "id": "ikqL1kFjbks7",
        "outputId": "adc5bea7-78e5-4c44-eb3e-ea03fe1aedc2",
        "colab": {
          "base_uri": "https://localhost:8080/",
          "height": 34
        }
      },
      "source": [
        "x.ndim"
      ],
      "execution_count": null,
      "outputs": [
        {
          "output_type": "execute_result",
          "data": {
            "text/plain": [
              "2"
            ]
          },
          "metadata": {
            "tags": []
          },
          "execution_count": 21
        }
      ]
    },
    {
      "cell_type": "code",
      "metadata": {
        "id": "M9R3fFxQbtJa",
        "outputId": "7f9aca51-e72e-477a-89e3-3f3ed8e93a2b",
        "colab": {
          "base_uri": "https://localhost:8080/",
          "height": 151
        }
      },
      "source": [
        "x = np.array([[[7,14,21],[7,14,21]],\n",
        "             [[87,89,93],[87,89,93]],\n",
        "             [[10,4,7],[10,4,7]]])\n",
        "x"
      ],
      "execution_count": null,
      "outputs": [
        {
          "output_type": "execute_result",
          "data": {
            "text/plain": [
              "array([[[ 7, 14, 21],\n",
              "        [ 7, 14, 21]],\n",
              "\n",
              "       [[87, 89, 93],\n",
              "        [87, 89, 93]],\n",
              "\n",
              "       [[10,  4,  7],\n",
              "        [10,  4,  7]]])"
            ]
          },
          "metadata": {
            "tags": []
          },
          "execution_count": 24
        }
      ]
    },
    {
      "cell_type": "code",
      "metadata": {
        "id": "vLfj1KXndKNt",
        "outputId": "30e3aade-f5ac-466e-c72b-59dd47cf1f47",
        "colab": {
          "base_uri": "https://localhost:8080/",
          "height": 34
        }
      },
      "source": [
        "x.ndim"
      ],
      "execution_count": null,
      "outputs": [
        {
          "output_type": "execute_result",
          "data": {
            "text/plain": [
              "3"
            ]
          },
          "metadata": {
            "tags": []
          },
          "execution_count": 25
        }
      ]
    },
    {
      "cell_type": "markdown",
      "metadata": {
        "id": "eA4JM1MJdskb"
      },
      "source": [
        "## Görüntü verisinden örnek gösterim\n"
      ]
    },
    {
      "cell_type": "code",
      "metadata": {
        "id": "DJvQik5xdZaT",
        "outputId": "c9c5f7e1-e24a-4bde-8288-4fc732f8b223",
        "colab": {
          "base_uri": "https://localhost:8080/",
          "height": 50
        }
      },
      "source": [
        "from keras.datasets import mnist\n",
        "(train_images,train_labels), (test_images,test_labels) = mnist.load_data()"
      ],
      "execution_count": null,
      "outputs": [
        {
          "output_type": "stream",
          "text": [
            "Downloading data from https://storage.googleapis.com/tensorflow/tf-keras-datasets/mnist.npz\n",
            "11493376/11490434 [==============================] - 0s 0us/step\n"
          ],
          "name": "stdout"
        }
      ]
    },
    {
      "cell_type": "code",
      "metadata": {
        "id": "WHRXDXtrdwGb",
        "outputId": "148309d7-fb59-4812-dc0a-c1738962a83a",
        "colab": {
          "base_uri": "https://localhost:8080/",
          "height": 67
        }
      },
      "source": [
        "print(train_images.ndim)\n",
        "print(train_images.shape)\n",
        "print(train_images.dtype)"
      ],
      "execution_count": null,
      "outputs": [
        {
          "output_type": "stream",
          "text": [
            "3\n",
            "(60000, 28, 28)\n",
            "uint8\n"
          ],
          "name": "stdout"
        }
      ]
    },
    {
      "cell_type": "code",
      "metadata": {
        "id": "sEWwn5XXd3U8",
        "outputId": "3acebfe3-d547-4dd5-d36b-5f40817d37f0",
        "colab": {
          "base_uri": "https://localhost:8080/",
          "height": 67
        }
      },
      "source": [
        "print(test_images.ndim)\n",
        "print(test_images.shape)\n",
        "print(test_images.dtype)"
      ],
      "execution_count": null,
      "outputs": [
        {
          "output_type": "stream",
          "text": [
            "3\n",
            "(10000, 28, 28)\n",
            "uint8\n"
          ],
          "name": "stdout"
        }
      ]
    },
    {
      "cell_type": "code",
      "metadata": {
        "id": "1NZL5IR3eUZB",
        "outputId": "c5afee80-3cdd-46ea-e7f8-bfa71221955e",
        "colab": {
          "base_uri": "https://localhost:8080/",
          "height": 513
        }
      },
      "source": [
        "import matplotlib.pyplot as plt\n",
        "digit = train_images[7]\n",
        "digit2 = train_images[2]\n",
        "plt.imshow(digit, cmap=plt.cm.binary)\n",
        "plt.show()\n",
        "plt.imshow(digit2, cmap=plt.cm.binary)\n",
        "plt.show()"
      ],
      "execution_count": null,
      "outputs": [
        {
          "output_type": "display_data",
          "data": {
            "image/png": "[encoded data removed]",
            "text/plain": [
              "<Figure size 432x288 with 1 Axes>"
            ]
          },
          "metadata": {
            "tags": [],
            "needs_background": "light"
          }
        },
        {
          "output_type": "display_data",
          "data": {
            "image/png": "[encoded data removed]",
            "text/plain": [
              "<Figure size 432x288 with 1 Axes>"
            ]
          },
          "metadata": {
            "tags": [],
            "needs_background": "light"
          }
        }
      ]
    },
    {
      "cell_type": "code",
      "metadata": {
        "id": "iCmNv-VEe-xe",
        "outputId": "db30eec0-8fb7-43db-e328-5b8e155d765f",
        "colab": {
          "base_uri": "https://localhost:8080/",
          "height": 34
        }
      },
      "source": [
        "dizinim = train_images[7:77]\n",
        "print(dizinim.shape)"
      ],
      "execution_count": null,
      "outputs": [
        {
          "output_type": "stream",
          "text": [
            "(70, 28, 28)\n"
          ],
          "name": "stdout"
        }
      ]
    },
    {
      "cell_type": "code",
      "metadata": {
        "id": "OUxWm1eBfS2s",
        "outputId": "2923ff0b-e7b2-42c0-e82c-68305d67defb",
        "colab": {
          "base_uri": "https://localhost:8080/",
          "height": 34
        }
      },
      "source": [
        "dizinim = train_images[7:77,:,:]\n",
        "print(dizinim.shape)"
      ],
      "execution_count": null,
      "outputs": [
        {
          "output_type": "stream",
          "text": [
            "(70, 28, 28)\n"
          ],
          "name": "stdout"
        }
      ]
    },
    {
      "cell_type": "code",
      "metadata": {
        "id": "vuQv1DdzfcXd",
        "outputId": "3c6081d0-ca6c-4946-8c01-22e471ddd174",
        "colab": {
          "base_uri": "https://localhost:8080/",
          "height": 34
        }
      },
      "source": [
        "dizinim = train_images[7:77,0:14,0:14]\n",
        "print(dizinim.shape)"
      ],
      "execution_count": null,
      "outputs": [
        {
          "output_type": "stream",
          "text": [
            "(70, 14, 14)\n"
          ],
          "name": "stdout"
        }
      ]
    },
    {
      "cell_type": "markdown",
      "metadata": {
        "id": "I8OUeQiW6NIn"
      },
      "source": [
        "## İşlemler\n",
        "\n",
        "\n",
        "\n",
        "\n"
      ]
    },
    {
      "cell_type": "markdown",
      "metadata": {
        "id": "A0Dd5Jqe7fyb"
      },
      "source": [
        "*   Eleman Temelli:\n",
        "  Bu işlemler tensörün her elemanına ayrı ayrı uygulanır."
      ]
    },
    {
      "cell_type": "code",
      "metadata": {
        "id": "QiTqJ1nz6jTA"
      },
      "source": [
        "def naive_add(x,y):\n",
        "  assert len(x.shape) == 2 # x ve y 2 boyutlu numpy tensörü\n",
        "  assert x.shape == y.shape\n",
        "\n",
        "  x = x.copy()\n",
        "\n",
        "  for i in range(x.shape[0]):\n",
        "    for j in range(x.shape[1]):\n",
        "      x[i,j] += y[i,j]\n",
        "  return x"
      ],
      "execution_count": null,
      "outputs": []
    },
    {
      "cell_type": "code",
      "metadata": {
        "id": "c4onNAYg7jl2",
        "outputId": "b9d4c7aa-7533-4b3b-f55f-38fb64e1be4c",
        "colab": {
          "base_uri": "https://localhost:8080/",
          "height": 67
        }
      },
      "source": [
        "import numpy as np\n",
        "x = np.array([[7,14,21],\n",
        "              [7,14,21],\n",
        "              [7,14,21]])\n",
        "y = np.array([[2,2,2],\n",
        "              [3,3,3],\n",
        "              [5,5,5]])\n",
        "z = naive_add(x,y)\n",
        "z"
      ],
      "execution_count": null,
      "outputs": [
        {
          "output_type": "execute_result",
          "data": {
            "text/plain": [
              "array([[ 9, 16, 23],\n",
              "       [10, 17, 24],\n",
              "       [12, 19, 26]])"
            ]
          },
          "metadata": {
            "tags": []
          },
          "execution_count": 11
        }
      ]
    },
    {
      "cell_type": "code",
      "metadata": {
        "id": "2sTrKBCo8KNv",
        "outputId": "2f8c12d1-b4d2-41cb-dafc-fa8ca8282fde",
        "colab": {
          "base_uri": "https://localhost:8080/",
          "height": 67
        }
      },
      "source": [
        "import numpy as np\n",
        "x = np.array([[7,14,21],\n",
        "              [7,14,21],\n",
        "              [7,14,21]])\n",
        "y = np.array([[2,2,2],\n",
        "              [3,3,3],\n",
        "              [5,5,5]])\n",
        "z = x+y\n",
        "z"
      ],
      "execution_count": null,
      "outputs": [
        {
          "output_type": "execute_result",
          "data": {
            "text/plain": [
              "array([[ 9, 16, 23],\n",
              "       [10, 17, 24],\n",
              "       [12, 19, 26]])"
            ]
          },
          "metadata": {
            "tags": []
          },
          "execution_count": 12
        }
      ]
    },
    {
      "cell_type": "markdown",
      "metadata": {
        "id": "-61xt9Dr80Qs"
      },
      "source": [
        "* Yayma Operasyonu"
      ]
    },
    {
      "cell_type": "code",
      "metadata": {
        "id": "yU854Bqy82zQ"
      },
      "source": [
        "def naive_add_matrix_and_vector(x,y):\n",
        "  assert len(x.shape)==2\n",
        "  assert len(y.shape)==1\n",
        "  assert x.shape[1]==y.shape[0]\n",
        "\n",
        "  x = x.copy\n",
        "\n",
        "  for i in range(x.shape[0]):\n",
        "    for j in range(x.shape[1]):\n",
        "      x[i,j] += y[j]\n",
        "  return x"
      ],
      "execution_count": null,
      "outputs": []
    },
    {
      "cell_type": "code",
      "metadata": {
        "id": "8VwVldQ_9k8q",
        "outputId": "f1d68069-7423-4379-f02b-597b93b5545a",
        "colab": {
          "base_uri": "https://localhost:8080/",
          "height": 330
        }
      },
      "source": [
        "import numpy as np\n",
        "x = np.array([[7,14,21],\n",
        "              [7,14,21],\n",
        "              [7,14,21]])\n",
        "\n",
        "y = np.array([1,2,3])\n",
        "\n",
        "z = naive_add_matrix_and_vector(x,y)\n",
        "z"
      ],
      "execution_count": null,
      "outputs": [
        {
          "output_type": "error",
          "ename": "AttributeError",
          "evalue": "ignored",
          "traceback": [
            "\u001b[0;31m---------------------------------------------------------------------------\u001b[0m",
            "\u001b[0;31mAttributeError\u001b[0m                            Traceback (most recent call last)",
            "\u001b[0;32m<ipython-input-26-d9033a7d0313>\u001b[0m in \u001b[0;36m<module>\u001b[0;34m()\u001b[0m\n\u001b[1;32m      6\u001b[0m \u001b[0my\u001b[0m \u001b[0;34m=\u001b[0m \u001b[0mnp\u001b[0m\u001b[0;34m.\u001b[0m\u001b[0marray\u001b[0m\u001b[0;34m(\u001b[0m\u001b[0;34m[\u001b[0m\u001b[0;36m1\u001b[0m\u001b[0;34m,\u001b[0m\u001b[0;36m2\u001b[0m\u001b[0;34m,\u001b[0m\u001b[0;36m3\u001b[0m\u001b[0;34m]\u001b[0m\u001b[0;34m)\u001b[0m\u001b[0;34m\u001b[0m\u001b[0;34m\u001b[0m\u001b[0m\n\u001b[1;32m      7\u001b[0m \u001b[0;34m\u001b[0m\u001b[0m\n\u001b[0;32m----> 8\u001b[0;31m \u001b[0mz\u001b[0m \u001b[0;34m=\u001b[0m \u001b[0mnaive_add_matrix_and_vector\u001b[0m\u001b[0;34m(\u001b[0m\u001b[0mx\u001b[0m\u001b[0;34m,\u001b[0m\u001b[0my\u001b[0m\u001b[0;34m)\u001b[0m\u001b[0;34m\u001b[0m\u001b[0;34m\u001b[0m\u001b[0m\n\u001b[0m\u001b[1;32m      9\u001b[0m \u001b[0mz\u001b[0m\u001b[0;34m\u001b[0m\u001b[0;34m\u001b[0m\u001b[0m\n",
            "\u001b[0;32m<ipython-input-21-c78cb6191876>\u001b[0m in \u001b[0;36mnaive_add_matrix_and_vector\u001b[0;34m(x, y)\u001b[0m\n\u001b[1;32m      6\u001b[0m   \u001b[0mx\u001b[0m \u001b[0;34m=\u001b[0m \u001b[0mx\u001b[0m\u001b[0;34m.\u001b[0m\u001b[0mcopy\u001b[0m\u001b[0;34m\u001b[0m\u001b[0;34m\u001b[0m\u001b[0m\n\u001b[1;32m      7\u001b[0m \u001b[0;34m\u001b[0m\u001b[0m\n\u001b[0;32m----> 8\u001b[0;31m   \u001b[0;32mfor\u001b[0m \u001b[0mi\u001b[0m \u001b[0;32min\u001b[0m \u001b[0mrange\u001b[0m\u001b[0;34m(\u001b[0m\u001b[0mx\u001b[0m\u001b[0;34m.\u001b[0m\u001b[0mshape\u001b[0m\u001b[0;34m[\u001b[0m\u001b[0;36m0\u001b[0m\u001b[0;34m]\u001b[0m\u001b[0;34m)\u001b[0m\u001b[0;34m:\u001b[0m\u001b[0;34m\u001b[0m\u001b[0;34m\u001b[0m\u001b[0m\n\u001b[0m\u001b[1;32m      9\u001b[0m     \u001b[0;32mfor\u001b[0m \u001b[0mj\u001b[0m \u001b[0;32min\u001b[0m \u001b[0mrange\u001b[0m\u001b[0;34m(\u001b[0m\u001b[0mx\u001b[0m\u001b[0;34m.\u001b[0m\u001b[0mshape\u001b[0m\u001b[0;34m[\u001b[0m\u001b[0;36m1\u001b[0m\u001b[0;34m]\u001b[0m\u001b[0;34m)\u001b[0m\u001b[0;34m:\u001b[0m\u001b[0;34m\u001b[0m\u001b[0;34m\u001b[0m\u001b[0m\n\u001b[1;32m     10\u001b[0m       \u001b[0mx\u001b[0m\u001b[0;34m[\u001b[0m\u001b[0mi\u001b[0m\u001b[0;34m,\u001b[0m\u001b[0mj\u001b[0m\u001b[0;34m]\u001b[0m \u001b[0;34m+=\u001b[0m \u001b[0my\u001b[0m\u001b[0;34m[\u001b[0m\u001b[0mj\u001b[0m\u001b[0;34m]\u001b[0m\u001b[0;34m\u001b[0m\u001b[0;34m\u001b[0m\u001b[0m\n",
            "\u001b[0;31mAttributeError\u001b[0m: 'builtin_function_or_method' object has no attribute 'shape'"
          ]
        }
      ]
    },
    {
      "cell_type": "code",
      "metadata": {
        "id": "91z59z1_ApJa",
        "outputId": "510e5e63-4b7a-4b4c-aebe-4434d2506ad7",
        "colab": {
          "base_uri": "https://localhost:8080/",
          "height": 34
        }
      },
      "source": [
        "import numpy as np\n",
        "\n",
        "x = np.random.random((64,3,32,10))\n",
        "y = np.random.random((32,10))\n",
        "z = np.maximum(x,y)\n",
        "z.shape"
      ],
      "execution_count": null,
      "outputs": [
        {
          "output_type": "execute_result",
          "data": {
            "text/plain": [
              "(64, 3, 32, 10)"
            ]
          },
          "metadata": {
            "tags": []
          },
          "execution_count": 30
        }
      ]
    },
    {
      "cell_type": "markdown",
      "metadata": {
        "id": "O6GqIgL3BUFP"
      },
      "source": [
        "* İç Çarpım İşlemi"
      ]
    },
    {
      "cell_type": "code",
      "metadata": {
        "id": "ir3d-42JBZeW",
        "outputId": "039bef33-305a-4f76-97ec-1116422c8509",
        "colab": {
          "base_uri": "https://localhost:8080/",
          "height": 50
        }
      },
      "source": [
        "import numpy as np\n",
        "\n",
        "x = np.array([[1,2],[1,2]])\n",
        "y = np.array([[1,2],[1,2]])\n",
        "z = np.dot(x,y)\n",
        "z"
      ],
      "execution_count": null,
      "outputs": [
        {
          "output_type": "execute_result",
          "data": {
            "text/plain": [
              "array([[3, 6],\n",
              "       [3, 6]])"
            ]
          },
          "metadata": {
            "tags": []
          },
          "execution_count": 31
        }
      ]
    },
    {
      "cell_type": "markdown",
      "metadata": {
        "id": "icPF89puBq-e"
      },
      "source": [
        "* Kanal/Şekil Değiştirme"
      ]
    },
    {
      "cell_type": "code",
      "metadata": {
        "id": "0_zHFwbrBuZ7",
        "outputId": "08cf82d7-8ce6-4dc9-f34e-1912bbb3963c",
        "colab": {
          "base_uri": "https://localhost:8080/",
          "height": 34
        }
      },
      "source": [
        "x  = np.array([[0.,1.],\n",
        "              [2.,3.],\n",
        "              [4.,5.]])\n",
        "x.shape"
      ],
      "execution_count": null,
      "outputs": [
        {
          "output_type": "execute_result",
          "data": {
            "text/plain": [
              "(3, 2)"
            ]
          },
          "metadata": {
            "tags": []
          },
          "execution_count": 32
        }
      ]
    },
    {
      "cell_type": "code",
      "metadata": {
        "id": "Zxp-Ol6CCJhe",
        "outputId": "50bb6732-d461-4d18-a2b8-036217437c49",
        "colab": {
          "base_uri": "https://localhost:8080/",
          "height": 34
        }
      },
      "source": [
        "x = x.reshape(6,1)\n",
        "x.shape"
      ],
      "execution_count": null,
      "outputs": [
        {
          "output_type": "execute_result",
          "data": {
            "text/plain": [
              "(6, 1)"
            ]
          },
          "metadata": {
            "tags": []
          },
          "execution_count": 35
        }
      ]
    },
    {
      "cell_type": "code",
      "metadata": {
        "id": "-PqtoXJRDKpB",
        "outputId": "b4c337c7-83ae-4568-efd7-a74f85cb2900",
        "colab": {
          "base_uri": "https://localhost:8080/",
          "height": 34
        }
      },
      "source": [
        "x = np.zeros((100,10))\n",
        "x = np.transpose(x)\n",
        "print(x.shape)"
      ],
      "execution_count": null,
      "outputs": [
        {
          "output_type": "stream",
          "text": [
            "(10, 100)\n"
          ],
          "name": "stdout"
        }
      ]
    }
  ]
}
