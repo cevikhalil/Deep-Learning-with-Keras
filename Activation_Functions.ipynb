{
  "nbformat": 4,
  "nbformat_minor": 0,
  "metadata": {
    "colab": {
      "name": "aktivasyon_fonksiyonları.ipynb",
      "provenance": [],
      "collapsed_sections": []
    },
    "kernelspec": {
      "name": "python3",
      "display_name": "Python 3"
    }
  },
  "cells": [
    {
      "cell_type": "code",
      "metadata": {
        "id": "11e8rkYJqQAf"
      },
      "source": [
        "# Gerekli kütüphanelerin import edilmesi\n",
        "\n",
        "import math \n",
        "import matplotlib.pylot as plt\n",
        "import numpy as np\n",
        "\n",
        "# aktivasyon fonksiyonları tanımlamak\n",
        "\n",
        "# sigmoid\n",
        "def sigmoid(x):\n",
        "  a=[]\n",
        "  for i in x:\n",
        "    a.append(1/1+math.exp(-i))"
      ],
      "execution_count": null,
      "outputs": []
    }
  ]
}
