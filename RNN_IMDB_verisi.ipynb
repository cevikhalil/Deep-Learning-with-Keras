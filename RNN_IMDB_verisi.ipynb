{
  "nbformat": 4,
  "nbformat_minor": 0,
  "metadata": {
    "colab": {
      "name": "RNN_IMDB_verisi.ipynb",
      "provenance": [],
      "collapsed_sections": []
    },
    "kernelspec": {
      "name": "python3",
      "display_name": "Python 3"
    }
  },
  "cells": [
    {
      "cell_type": "code",
      "metadata": {
        "id": "5A9HlzBGA0p1"
      },
      "source": [
        "from keras.layers import SimpleRNN\n",
        "from keras.models import Sequential\n",
        "from keras.layers import Embedding"
      ],
      "execution_count": null,
      "outputs": []
    },
    {
      "cell_type": "code",
      "metadata": {
        "id": "bjy92XwtBH8h"
      },
      "source": [
        "model = Sequential()\n",
        "model.add(Embedding(1000,32))\n",
        "model.add(SimpleRNN(32))\n",
        "model.summary()"
      ],
      "execution_count": null,
      "outputs": []
    },
    {
      "cell_type": "code",
      "metadata": {
        "id": "_Z7htHxPBcGf"
      },
      "source": [
        "model = Sequential()\n",
        "model.add(Embedding(1000,32))\n",
        "model.add(SimpleRNN(32, return_sequences=True))\n",
        "model.summary()"
      ],
      "execution_count": null,
      "outputs": []
    },
    {
      "cell_type": "code",
      "metadata": {
        "id": "DwYqPxhnBnXE"
      },
      "source": [
        "model = Sequential()\n",
        "model.add(Embedding(1000,32))\n",
        "model.add(SimpleRNN(32, return_sequences=True))\n",
        "model.add(SimpleRNN(32, return_sequences=True))\n",
        "model.add(SimpleRNN(32, return_sequences=True))\n",
        "model.summary()"
      ],
      "execution_count": null,
      "outputs": []
    },
    {
      "cell_type": "markdown",
      "metadata": {
        "id": "Vr3UfDWEBzcu"
      },
      "source": [
        "## IMDB VERİ KÜMESİNİ HAZIRLAMAK\n"
      ]
    },
    {
      "cell_type": "code",
      "metadata": {
        "id": "8SdHrc3PB13n"
      },
      "source": [
        "from keras.datasets import imdb\n",
        "from keras.preprocessing import sequence"
      ],
      "execution_count": null,
      "outputs": []
    },
    {
      "cell_type": "code",
      "metadata": {
        "id": "Fsxy2GLDCA9q"
      },
      "source": [
        "num_features = 1000\n",
        "maxlen = 500\n",
        "batch_size = 32"
      ],
      "execution_count": null,
      "outputs": []
    },
    {
      "cell_type": "code",
      "metadata": {
        "id": "BNUAMIAzCJME",
        "outputId": "77a105e0-ac3b-4d1e-c22e-2a82f30fcbec",
        "colab": {
          "base_uri": "https://localhost:8080/",
          "height": 67
        }
      },
      "source": [
        "print('Load data..')\n",
        "(input_train, y_train), (input_test, y_test) = imdb.load_data(num_words = num_features)\n",
        "print(len(input_train), 'Eğitim dizisi',input_train.shape)\n",
        "print(len(input_test), 'Test dizisi',input_train.shape)"
      ],
      "execution_count": null,
      "outputs": [
        {
          "output_type": "stream",
          "text": [
            "Load data..\n",
            "25000 Eğitim dizisi (25000,)\n",
            "25000 Test dizisi (25000,)\n"
          ],
          "name": "stdout"
        }
      ]
    },
    {
      "cell_type": "code",
      "metadata": {
        "id": "g3vcEo_gI9kh",
        "outputId": "2bae03f7-cea7-4779-9183-e5f71d31be4d",
        "colab": {
          "base_uri": "https://localhost:8080/",
          "height": 67
        }
      },
      "source": [
        "print('Pad sequence (sample x train)')\n",
        "input_train = sequence.pad_sequences(input_train, maxlen=maxlen)\n",
        "input_test = sequence.pad_sequences(input_test, maxlen=maxlen)\n",
        "\n",
        "print(len(input_train), 'Eğitim dizisi',input_train.shape)\n",
        "print(len(input_test), 'Test dizisi',input_train.shape)"
      ],
      "execution_count": null,
      "outputs": [
        {
          "output_type": "stream",
          "text": [
            "Pad sequence (sample x train)\n",
            "25000 Eğitim dizisi (25000, 500)\n",
            "25000 Test dizisi (25000, 500)\n"
          ],
          "name": "stdout"
        }
      ]
    },
    {
      "cell_type": "markdown",
      "metadata": {
        "id": "OQRX0K4RCxoI"
      },
      "source": [
        "## EMBEDDING VE SIMPLERNN KATMANLARININ EĞİTİLMESİ\n"
      ]
    },
    {
      "cell_type": "code",
      "metadata": {
        "id": "C1jHiJ7wC2Is"
      },
      "source": [
        "from keras.layers import Dense\n",
        "from keras import layers"
      ],
      "execution_count": null,
      "outputs": []
    },
    {
      "cell_type": "markdown",
      "metadata": {
        "id": "NuQvtav1L4jo"
      },
      "source": [
        "## BASİT RNN İLE MODELLEME"
      ]
    },
    {
      "cell_type": "code",
      "metadata": {
        "id": "5kOLSRaZC9wg",
        "outputId": "399d5a13-cc2d-41fb-e0ff-178530bb1512",
        "colab": {
          "base_uri": "https://localhost:8080/",
          "height": 252
        }
      },
      "source": [
        "model = Sequential()\n",
        "model.add(Embedding(num_features, 32))\n",
        "model.add(SimpleRNN(32))\n",
        "model.add(Dense(1, activation='sigmoid'))\n",
        "model.summary()"
      ],
      "execution_count": null,
      "outputs": [
        {
          "output_type": "stream",
          "text": [
            "Model: \"sequential_12\"\n",
            "_________________________________________________________________\n",
            "Layer (type)                 Output Shape              Param #   \n",
            "=================================================================\n",
            "embedding_12 (Embedding)     (None, None, 32)          32000     \n",
            "_________________________________________________________________\n",
            "simple_rnn_15 (SimpleRNN)    (None, 32)                2080      \n",
            "_________________________________________________________________\n",
            "dense_5 (Dense)              (None, 1)                 33        \n",
            "=================================================================\n",
            "Total params: 34,113\n",
            "Trainable params: 34,113\n",
            "Non-trainable params: 0\n",
            "_________________________________________________________________\n"
          ],
          "name": "stdout"
        }
      ]
    },
    {
      "cell_type": "markdown",
      "metadata": {
        "id": "Vp0ly_BUMGvW"
      },
      "source": [
        "## MODELİN DERLENMESİ - RNN"
      ]
    },
    {
      "cell_type": "code",
      "metadata": {
        "id": "Or9NCT1DIAjp",
        "outputId": "348c050b-4f44-4ebd-ae32-f018bc78cce7",
        "colab": {
          "base_uri": "https://localhost:8080/",
          "height": 353
        }
      },
      "source": [
        "model.compile(optimizer='rmsprop',loss='binary_crossentropy', metrics=['acc'])\n",
        "history = model.fit(input_train, y_train,\n",
        "                    epochs = 10,\n",
        "                    batch_size = 128,\n",
        "                    validation_split = 0.2)"
      ],
      "execution_count": null,
      "outputs": [
        {
          "output_type": "stream",
          "text": [
            "Epoch 1/10\n",
            "157/157 [==============================] - 20s 126ms/step - loss: 0.6750 - acc: 0.5623 - val_loss: 0.5888 - val_acc: 0.6802\n",
            "Epoch 2/10\n",
            "157/157 [==============================] - 19s 123ms/step - loss: 0.6141 - acc: 0.7034 - val_loss: 0.5095 - val_acc: 0.7576\n",
            "Epoch 3/10\n",
            "157/157 [==============================] - 19s 123ms/step - loss: 0.4502 - acc: 0.7980 - val_loss: 0.5327 - val_acc: 0.7268\n",
            "Epoch 4/10\n",
            "157/157 [==============================] - 19s 123ms/step - loss: 0.4187 - acc: 0.8179 - val_loss: 0.4442 - val_acc: 0.7946\n",
            "Epoch 5/10\n",
            "157/157 [==============================] - 19s 123ms/step - loss: 0.3862 - acc: 0.8338 - val_loss: 0.3942 - val_acc: 0.8284\n",
            "Epoch 6/10\n",
            "157/157 [==============================] - 20s 124ms/step - loss: 0.3667 - acc: 0.8451 - val_loss: 0.3743 - val_acc: 0.8430\n",
            "Epoch 7/10\n",
            "157/157 [==============================] - 19s 123ms/step - loss: 0.3588 - acc: 0.8475 - val_loss: 0.3934 - val_acc: 0.8284\n",
            "Epoch 8/10\n",
            "157/157 [==============================] - 20s 125ms/step - loss: 0.3552 - acc: 0.8523 - val_loss: 0.3891 - val_acc: 0.8304\n",
            "Epoch 9/10\n",
            "157/157 [==============================] - 20s 126ms/step - loss: 0.3315 - acc: 0.8638 - val_loss: 0.4079 - val_acc: 0.8258\n",
            "Epoch 10/10\n",
            "157/157 [==============================] - 20s 125ms/step - loss: 0.3158 - acc: 0.8687 - val_loss: 0.4045 - val_acc: 0.8340\n"
          ],
          "name": "stdout"
        }
      ]
    },
    {
      "cell_type": "markdown",
      "metadata": {
        "id": "DHPOQT8nMDLM"
      },
      "source": [
        "## BASİT BİR LSTM İLE MODELLEME"
      ]
    },
    {
      "cell_type": "code",
      "metadata": {
        "id": "0ghJrw6uMM4h"
      },
      "source": [
        "model = Sequential()\n",
        "model.add(layers.Embedding(num_features, 32))\n",
        "model.add(layers.Bidirectional(layers.LSTM(32)))\n",
        "model.add(Dense(1, activation='sigmoid'))\n",
        "model.summary()"
      ],
      "execution_count": null,
      "outputs": []
    },
    {
      "cell_type": "markdown",
      "metadata": {
        "id": "OFq6VBdUMqgu"
      },
      "source": [
        "## MODELİN DERLENMESİ - LSTM \n",
        "\n"
      ]
    },
    {
      "cell_type": "code",
      "metadata": {
        "id": "5AZODq1GNawk",
        "outputId": "b29a72be-5f08-44f4-8dbb-c86402af777d",
        "colab": {
          "base_uri": "https://localhost:8080/",
          "height": 353
        }
      },
      "source": [
        "model.compile(optimizer='rmsprop',loss='binary_crossentropy', metrics=['acc'])\n",
        "history = model.fit(input_train, y_train,\n",
        "                    epochs = 10,\n",
        "                    batch_size = 128,\n",
        "                    validation_split = 0.2)"
      ],
      "execution_count": null,
      "outputs": [
        {
          "output_type": "stream",
          "text": [
            "Epoch 1/10\n",
            "157/157 [==============================] - 86s 546ms/step - loss: 0.5827 - acc: 0.6973 - val_loss: 0.4654 - val_acc: 0.8058\n",
            "Epoch 2/10\n",
            "157/157 [==============================] - 85s 542ms/step - loss: 0.4233 - acc: 0.8196 - val_loss: 0.3776 - val_acc: 0.8450\n",
            "Epoch 3/10\n",
            "157/157 [==============================] - 85s 544ms/step - loss: 0.3685 - acc: 0.8461 - val_loss: 0.3825 - val_acc: 0.8270\n",
            "Epoch 4/10\n",
            "157/157 [==============================] - 86s 546ms/step - loss: 0.3506 - acc: 0.8533 - val_loss: 0.4423 - val_acc: 0.8126\n",
            "Epoch 5/10\n",
            "157/157 [==============================] - 86s 546ms/step - loss: 0.3294 - acc: 0.8646 - val_loss: 0.3394 - val_acc: 0.8588\n",
            "Epoch 6/10\n",
            "157/157 [==============================] - 86s 547ms/step - loss: 0.3246 - acc: 0.8654 - val_loss: 0.3574 - val_acc: 0.8442\n",
            "Epoch 7/10\n",
            "157/157 [==============================] - 86s 547ms/step - loss: 0.3211 - acc: 0.8682 - val_loss: 0.3506 - val_acc: 0.8508\n",
            "Epoch 8/10\n",
            "157/157 [==============================] - 85s 544ms/step - loss: 0.3086 - acc: 0.8727 - val_loss: 0.3552 - val_acc: 0.8522\n",
            "Epoch 9/10\n",
            "157/157 [==============================] - 85s 543ms/step - loss: 0.3067 - acc: 0.8721 - val_loss: 0.3841 - val_acc: 0.8496\n",
            "Epoch 10/10\n",
            "157/157 [==============================] - 87s 552ms/step - loss: 0.2993 - acc: 0.8780 - val_loss: 0.3562 - val_acc: 0.8562\n"
          ],
          "name": "stdout"
        }
      ]
    },
    {
      "cell_type": "markdown",
      "metadata": {
        "id": "LbvZgXIlKMf5"
      },
      "source": [
        "## SONUÇLARIN ÇİZDİRİLMESİ"
      ]
    },
    {
      "cell_type": "code",
      "metadata": {
        "id": "tZYLhrk-KPt7"
      },
      "source": [
        "import matplotlib.pyplot as plt"
      ],
      "execution_count": null,
      "outputs": []
    },
    {
      "cell_type": "code",
      "metadata": {
        "id": "yoKXd6caKTjv"
      },
      "source": [
        "acc = history.history['acc']\n",
        "val_acc = history.history['val_acc']\n",
        "loss = history.history['loss']\n",
        "val_loss = history.history['val_loss']\n",
        "\n",
        "epochs = range(1, len(acc) + 1)"
      ],
      "execution_count": null,
      "outputs": []
    },
    {
      "cell_type": "code",
      "metadata": {
        "id": "2MV1kTshKm41",
        "outputId": "438048aa-867a-4f51-a869-86e43e2b8603",
        "colab": {
          "base_uri": "https://localhost:8080/",
          "height": 545
        }
      },
      "source": [
        "plt.plot(epochs, acc, 'm*-', label='Eğitim Başarımı')\n",
        "plt.plot(epochs, val_acc, 'g', label='Doğrulama / Geçerleme Başarımı')\n",
        "plt.title('Eğitim ve Doğrulama için Başarım')\n",
        "plt.legend()\n",
        "\n",
        "plt.figure()\n",
        "\n",
        "plt.plot(epochs, loss, 'm*-', label='Eğitim Kaybı')\n",
        "plt.plot(epochs, val_loss, 'g', label='Doğrulama / Geçerleme Kaybı')\n",
        "plt.title('Eğitim ve Doğrulama için Kayıp')\n",
        "plt.legend()\n",
        "\n",
        "plt.show()"
      ],
      "execution_count": null,
      "outputs": [
        {
          "output_type": "display_data",
          "data": {
            "image/png": "[encoded data removed]",
            "text/plain": [
              "<Figure size 432x288 with 1 Axes>"
            ]
          },
          "metadata": {
            "tags": [],
            "needs_background": "light"
          }
        },
        {
          "output_type": "display_data",
          "data": {
            "image/png": "[encoded data removed]",
            "text/plain": [
              "<Figure size 432x288 with 1 Axes>"
            ]
          },
          "metadata": {
            "tags": [],
            "needs_background": "light"
          }
        }
      ]
    },
    {
      "cell_type": "code",
      "metadata": {
        "id": "UR-oU-ydLmG-",
        "outputId": "4cd4e8e2-1b17-4cd4-bf72-64f5ae8aeb00",
        "colab": {
          "base_uri": "https://localhost:8080/",
          "height": 54
        }
      },
      "source": [
        "print(acc, 'eğitim başarımları')"
      ],
      "execution_count": null,
      "outputs": [
        {
          "output_type": "stream",
          "text": [
            "[0.6248499751091003, 0.786300003528595, 0.8197500109672546, 0.8339499831199646, 0.853950023651123, 0.8646000027656555, 0.8746500015258789, 0.8834999799728394, 0.8944500088691711, 0.8959500193595886] eğitim başarımları\n"
          ],
          "name": "stdout"
        }
      ]
    }
  ]
}