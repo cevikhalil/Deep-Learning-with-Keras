{
  "nbformat": 4,
  "nbformat_minor": 0,
  "metadata": {
    "colab": {
      "name": "EvrisimliSinirAgi_AdimAdim.ipynb",
      "provenance": [],
      "collapsed_sections": []
    },
    "kernelspec": {
      "name": "python3",
      "display_name": "Python 3"
    },
    "accelerator": "GPU"
  },
  "cells": [
    {
      "cell_type": "code",
      "metadata": {
        "id": "u-nNrt_zX0JQ"
      },
      "source": [
        "import numpy as np\n",
        "import matplotlib.pyplot as plt\n",
        "import h5py\n",
        "\n",
        "plt.rcParams['figure.figsize']=(5.0,4.0)\n",
        "plt.rcParams['image.interpolation']='nearest'\n",
        "plt.rcParams['image.cmap']='gray'\n",
        "\n",
        "np.random.seed(1)"
      ],
      "execution_count": null,
      "outputs": []
    },
    {
      "cell_type": "code",
      "metadata": {
        "id": "TYtWhuvPalCU"
      },
      "source": [
        "def zero_pad(X,pad):\n",
        "  X_pad = np.pad(X, ((0,0),(pad,pad),(pad,pad),(0,0)),'constant',constant_values=0)\n",
        "  return X_pad"
      ],
      "execution_count": null,
      "outputs": []
    },
    {
      "cell_type": "code",
      "metadata": {
        "id": "BgNH2U2na9BG",
        "outputId": "6c4e9ce0-52ad-4365-9778-7c4290097f00",
        "colab": {
          "base_uri": "https://localhost:8080/",
          "height": 410
        }
      },
      "source": [
        "np.random.seed(1)\n",
        "x = np.random.randn(4,3,3,2)\n",
        "x_pad = zero_pad(x,2)\n",
        "\n",
        "print(\"x.shape =\",x.shape)\n",
        "print(\"x_pad.shape =\",x_pad.shape)\n",
        "print(\"x[1,1] =\",x[1,1])\n",
        "print(\"x_pad[1,1] =\",x_pad[1,1])\n",
        "\n",
        "fig, axarr = plt.subplots(1,2)\n",
        "axarr[0].set_title('x')\n",
        "axarr[0].imshow(x[0,:,:,0])\n",
        "axarr[1].set_title('x_pad')\n",
        "axarr[1].imshow(x_pad[0,:,:,0])"
      ],
      "execution_count": null,
      "outputs": [
        {
          "output_type": "stream",
          "text": [
            "x.shape = (4, 3, 3, 2)\n",
            "x_pad.shape = (4, 7, 7, 2)\n",
            "x[1,1] = [[ 0.90085595 -0.68372786]\n",
            " [-0.12289023 -0.93576943]\n",
            " [-0.26788808  0.53035547]]\n",
            "x_pad[1,1] = [[0. 0.]\n",
            " [0. 0.]\n",
            " [0. 0.]\n",
            " [0. 0.]\n",
            " [0. 0.]\n",
            " [0. 0.]\n",
            " [0. 0.]]\n"
          ],
          "name": "stdout"
        },
        {
          "output_type": "execute_result",
          "data": {
            "text/plain": [
              "<matplotlib.image.AxesImage at 0x7fdb3769dda0>"
            ]
          },
          "metadata": {
            "tags": []
          },
          "execution_count": 4
        },
        {
          "output_type": "display_data",
          "data": {
            "image/png": "[encoded data removed]",
            "text/plain": [
              "<Figure size 360x288 with 2 Axes>"
            ]
          },
          "metadata": {
            "tags": [],
            "needs_background": "light"
          }
        }
      ]
    },
    {
      "cell_type": "code",
      "metadata": {
        "id": "2jfHOUWntq9Y"
      },
      "source": [
        "def conv_single_step(a_slice_prev,W,b): # a_slice_prev = giriş matrisi, W = ağırlık matrisi, b = bias değerleri\n",
        "  s = np.multiply(a_slice_prev,W)\n",
        "  Z = np.sum(s)\n",
        "  Z = float(b)+Z\n",
        "  return Z"
      ],
      "execution_count": null,
      "outputs": []
    },
    {
      "cell_type": "code",
      "metadata": {
        "id": "KMzVWW5Huy1b",
        "outputId": "1afa1093-3eb1-45d3-ea49-07b50c909216",
        "colab": {
          "base_uri": "https://localhost:8080/",
          "height": 34
        }
      },
      "source": [
        "np.random.seed(1)\n",
        "a_slice_prev = np.random.randn(4,4,3)\n",
        "W = np.random.randn(4,4,3)\n",
        "b = np.random.randn(1,1,1)\n",
        "Z = conv_single_step(a_slice_prev,W,b)\n",
        "print(\"Z =\",Z)\n"
      ],
      "execution_count": null,
      "outputs": [
        {
          "output_type": "stream",
          "text": [
            "Z = -6.999089450680221\n"
          ],
          "name": "stdout"
        }
      ]
    },
    {
      "cell_type": "code",
      "metadata": {
        "id": "DsUGxpknwD2p"
      },
      "source": [
        "def conv_forward(A_prev,W,b,hparameters):\n",
        "  (m,n_H_prev,n_W_prev,n_C_prev) = A_prev.shape \n",
        "  (f, f, n_C) = W.shape\n",
        "   # n:boyut, h:yükseklik, W:genişlik, C:kanal sayısı\n",
        "  stride = hparameters['stride']\n",
        "  pad = hparameters['pad']\n",
        "\n",
        "  n_H = int(((n_H_prev-f+2*pad)/stride)+1) # ((n+2p-f)/s)+1\n",
        "  n_W = int(((n_W_prev-f+2*pad)/stride)+1)\n",
        "\n",
        "  Z = np.zeros([m,n_H, n_W, n_C])\n",
        "  A_prev_pad = zero_pad(A_prev,pad)\n",
        "\n",
        "  for i in range(m):\n",
        "    a_prev_pad = A_prev_pad[i]\n",
        "    for h in range(n_H):\n",
        "      for w in range(n_W):\n",
        "        for c in range(n_C):\n",
        "          vert_start = h*stride\n",
        "          vert_end = vert_start+f\n",
        "          horiz_start = w*stride\n",
        "          horiz_end = horiz_start+f\n",
        "          s_slice_prev = a_prev_pad[vert_start:vert_end,horiz_start:horiz_end]\n",
        "\n",
        "          Z[i,h,W,c] = conv_single_step(a_slice_prev,W[...,c],b[...,c])\n",
        "  \n",
        "    assert(Z.shape == (m, n_H, n_W, n_C))\n",
        "    cache = (A_prev,W,b,hparameters)\n",
        "    return Z, cache"
      ],
      "execution_count": null,
      "outputs": []
    },
    {
      "cell_type": "code",
      "metadata": {
        "id": "gfN_wspK1nl3",
        "outputId": "94ecdf76-940c-4d50-e0b3-e766f9d80178",
        "colab": {
          "base_uri": "https://localhost:8080/",
          "height": 370
        }
      },
      "source": [
        "np.random.seed(1)\n",
        "A_prev = np.random.randn(10,4,4,3)\n",
        "W = np.random.randn(2,2,3,8)\n",
        "b = np.random.randn(1,1,1,8)\n",
        "\n",
        "hparameters = {\"pad\":2,\n",
        "               \"stride\":2}\n",
        "\n",
        "Z, cache_conv = conv_forward(A_prev,W,b,hparameters)\n",
        "\n",
        "print(\"Z'nin ortalama =\", np.mean(Z))\n",
        "print(\"Z[3,2,1] =\", Z[3,2,1])\n",
        "print(\"cache_conv[0][1][2][3]\",cache_conv[0][1][2][3])"
      ],
      "execution_count": null,
      "outputs": [
        {
          "output_type": "error",
          "ename": "ValueError",
          "evalue": "ignored",
          "traceback": [
            "\u001b[0;31m---------------------------------------------------------------------------\u001b[0m",
            "\u001b[0;31mValueError\u001b[0m                                Traceback (most recent call last)",
            "\u001b[0;32m<ipython-input-26-37c9df04d70e>\u001b[0m in \u001b[0;36m<module>\u001b[0;34m()\u001b[0m\n\u001b[1;32m      7\u001b[0m                \"stride\":2}\n\u001b[1;32m      8\u001b[0m \u001b[0;34m\u001b[0m\u001b[0m\n\u001b[0;32m----> 9\u001b[0;31m \u001b[0mZ\u001b[0m\u001b[0;34m,\u001b[0m \u001b[0mcache_conv\u001b[0m \u001b[0;34m=\u001b[0m \u001b[0mconv_forward\u001b[0m\u001b[0;34m(\u001b[0m\u001b[0mA_prev\u001b[0m\u001b[0;34m,\u001b[0m\u001b[0mW\u001b[0m\u001b[0;34m,\u001b[0m\u001b[0mb\u001b[0m\u001b[0;34m,\u001b[0m\u001b[0mhparameters\u001b[0m\u001b[0;34m)\u001b[0m\u001b[0;34m\u001b[0m\u001b[0;34m\u001b[0m\u001b[0m\n\u001b[0m\u001b[1;32m     10\u001b[0m \u001b[0;34m\u001b[0m\u001b[0m\n\u001b[1;32m     11\u001b[0m \u001b[0mprint\u001b[0m\u001b[0;34m(\u001b[0m\u001b[0;34m\"Z'nin ortalama =\"\u001b[0m\u001b[0;34m,\u001b[0m \u001b[0mnp\u001b[0m\u001b[0;34m.\u001b[0m\u001b[0mmean\u001b[0m\u001b[0;34m(\u001b[0m\u001b[0mZ\u001b[0m\u001b[0;34m)\u001b[0m\u001b[0;34m)\u001b[0m\u001b[0;34m\u001b[0m\u001b[0;34m\u001b[0m\u001b[0m\n",
            "\u001b[0;32m<ipython-input-25-4e84ee6aff0a>\u001b[0m in \u001b[0;36mconv_forward\u001b[0;34m(A_prev, W, b, hparameters)\u001b[0m\n\u001b[1;32m     25\u001b[0m           \u001b[0ms_slice_prev\u001b[0m \u001b[0;34m=\u001b[0m \u001b[0ma_prev_pad\u001b[0m\u001b[0;34m[\u001b[0m\u001b[0mvert_start\u001b[0m\u001b[0;34m:\u001b[0m\u001b[0mvert_end\u001b[0m\u001b[0;34m,\u001b[0m\u001b[0mhoriz_start\u001b[0m\u001b[0;34m:\u001b[0m\u001b[0mhoriz_end\u001b[0m\u001b[0;34m]\u001b[0m\u001b[0;34m\u001b[0m\u001b[0;34m\u001b[0m\u001b[0m\n\u001b[1;32m     26\u001b[0m \u001b[0;34m\u001b[0m\u001b[0m\n\u001b[0;32m---> 27\u001b[0;31m           \u001b[0mZ\u001b[0m\u001b[0;34m[\u001b[0m\u001b[0mi\u001b[0m\u001b[0;34m,\u001b[0m\u001b[0mh\u001b[0m\u001b[0;34m,\u001b[0m\u001b[0mW\u001b[0m\u001b[0;34m,\u001b[0m\u001b[0mc\u001b[0m\u001b[0;34m]\u001b[0m \u001b[0;34m=\u001b[0m \u001b[0mconv_single_step\u001b[0m\u001b[0;34m(\u001b[0m\u001b[0ma_slice_prev\u001b[0m\u001b[0;34m,\u001b[0m\u001b[0mW\u001b[0m\u001b[0;34m[\u001b[0m\u001b[0;34m...\u001b[0m\u001b[0;34m,\u001b[0m\u001b[0mc\u001b[0m\u001b[0;34m]\u001b[0m\u001b[0;34m,\u001b[0m\u001b[0mb\u001b[0m\u001b[0;34m[\u001b[0m\u001b[0;34m...\u001b[0m\u001b[0;34m,\u001b[0m\u001b[0mc\u001b[0m\u001b[0;34m]\u001b[0m\u001b[0;34m)\u001b[0m\u001b[0;34m\u001b[0m\u001b[0;34m\u001b[0m\u001b[0m\n\u001b[0m\u001b[1;32m     28\u001b[0m \u001b[0;34m\u001b[0m\u001b[0m\n\u001b[1;32m     29\u001b[0m     \u001b[0;32massert\u001b[0m\u001b[0;34m(\u001b[0m\u001b[0mZ\u001b[0m\u001b[0;34m.\u001b[0m\u001b[0mshape\u001b[0m \u001b[0;34m==\u001b[0m \u001b[0;34m(\u001b[0m\u001b[0mm\u001b[0m\u001b[0;34m,\u001b[0m \u001b[0mn_H\u001b[0m\u001b[0;34m,\u001b[0m \u001b[0mn_W\u001b[0m\u001b[0;34m,\u001b[0m \u001b[0mn_C\u001b[0m\u001b[0;34m)\u001b[0m\u001b[0;34m)\u001b[0m\u001b[0;34m\u001b[0m\u001b[0;34m\u001b[0m\u001b[0m\n",
            "\u001b[0;32m<ipython-input-6-922edc7caf69>\u001b[0m in \u001b[0;36mconv_single_step\u001b[0;34m(a_slice_prev, W, b)\u001b[0m\n\u001b[1;32m      1\u001b[0m \u001b[0;32mdef\u001b[0m \u001b[0mconv_single_step\u001b[0m\u001b[0;34m(\u001b[0m\u001b[0ma_slice_prev\u001b[0m\u001b[0;34m,\u001b[0m\u001b[0mW\u001b[0m\u001b[0;34m,\u001b[0m\u001b[0mb\u001b[0m\u001b[0;34m)\u001b[0m\u001b[0;34m:\u001b[0m \u001b[0;31m# a_slice_prev = giriş matrisi, W = ağırlık matrisi, b = bias değerleri\u001b[0m\u001b[0;34m\u001b[0m\u001b[0;34m\u001b[0m\u001b[0m\n\u001b[0;32m----> 2\u001b[0;31m   \u001b[0ms\u001b[0m \u001b[0;34m=\u001b[0m \u001b[0mnp\u001b[0m\u001b[0;34m.\u001b[0m\u001b[0mmultiply\u001b[0m\u001b[0;34m(\u001b[0m\u001b[0ma_slice_prev\u001b[0m\u001b[0;34m,\u001b[0m\u001b[0mW\u001b[0m\u001b[0;34m)\u001b[0m\u001b[0;34m\u001b[0m\u001b[0;34m\u001b[0m\u001b[0m\n\u001b[0m\u001b[1;32m      3\u001b[0m   \u001b[0mZ\u001b[0m \u001b[0;34m=\u001b[0m \u001b[0mnp\u001b[0m\u001b[0;34m.\u001b[0m\u001b[0msum\u001b[0m\u001b[0;34m(\u001b[0m\u001b[0ms\u001b[0m\u001b[0;34m)\u001b[0m\u001b[0;34m\u001b[0m\u001b[0;34m\u001b[0m\u001b[0m\n\u001b[1;32m      4\u001b[0m   \u001b[0mZ\u001b[0m \u001b[0;34m=\u001b[0m \u001b[0mfloat\u001b[0m\u001b[0;34m(\u001b[0m\u001b[0mb\u001b[0m\u001b[0;34m)\u001b[0m\u001b[0;34m+\u001b[0m\u001b[0mZ\u001b[0m\u001b[0;34m\u001b[0m\u001b[0;34m\u001b[0m\u001b[0m\n\u001b[1;32m      5\u001b[0m   \u001b[0;32mreturn\u001b[0m \u001b[0mZ\u001b[0m\u001b[0;34m\u001b[0m\u001b[0;34m\u001b[0m\u001b[0m\n",
            "\u001b[0;31mValueError\u001b[0m: operands could not be broadcast together with shapes (4,4,3) (2,2,3) "
          ]
        }
      ]
    },
    {
      "cell_type": "code",
      "metadata": {
        "id": "1nF_7o13H_se"
      },
      "source": [
        "def pool_forward(A_prev, hparameters, mode =\"max\"):\n",
        "    (m,n_H_prev,n_W_prev,n_C_prev) = A_prev.shape\n",
        "\n",
        "    f = hparameters[\"f\"]\n",
        "    stride = hparameters[\"stride\"]\n",
        "\n",
        "    n_H = int(1+(n_H_prev-f)/stride)\n",
        "    n_W = int(1+(n_W_prev-f)/stride)\n",
        "    n_C = n_C_prev\n",
        "\n",
        "    A = np.zeros((m,n_H,n_W,n_C))\n",
        "\n",
        "    for i in range(m):\n",
        "      for h in range(n_H):\n",
        "        for w in range(n_W):\n",
        "          for c in range(n_C):\n",
        "            vert_start = h*stride\n",
        "            vert_end = vert_start+f\n",
        "            horiz_start = w*stride\n",
        "            horiz_end = horiz_start+f\n",
        "            a_prev_slice = A_prev[i, vert_start:vert_end, horiz_start:horiz_end,c]\n",
        "\n",
        "            if mode == \"max\":\n",
        "              A[i,h,w,c] = np.max(a_prev_slice)\n",
        "            elif mode == \"average\":\n",
        "              A[i,h,w,c] = np.mean(a_prev_slice)\n",
        "\n",
        "    cache = (A_prev, hparameters)\n",
        "    assert(A.shape == (m, n_H, n_W, n_C))\n",
        "    return A, cache\n"
      ],
      "execution_count": null,
      "outputs": []
    },
    {
      "cell_type": "code",
      "metadata": {
        "id": "2LOairKwJzQF",
        "outputId": "6621a364-3f53-49a7-a1bc-345788b540eb",
        "colab": {
          "base_uri": "https://localhost:8080/",
          "height": 185
        }
      },
      "source": [
        "np.random.seed(1)\n",
        "\n",
        "A_prev = np.random.randn(2,4,4,3)\n",
        "hparameters = {\"stride\":2, \"f\":3}\n",
        "A, cache = pool_forward(A_prev, hparameters)\n",
        "\n",
        "print(\"mod = max\")\n",
        "print(\"A =\",A)\n",
        "\n",
        "A, cache = pool_forward(A_prev, hparameters,mode =\"average\")\n",
        "\n",
        "print(\"mod = average\")\n",
        "print(\"A =\",A)\n"
      ],
      "execution_count": null,
      "outputs": [
        {
          "output_type": "stream",
          "text": [
            "mod = max\n",
            "A = [[[[1.74481176 0.86540763 1.13376944]]]\n",
            "\n",
            "\n",
            " [[[1.13162939 1.51981682 2.18557541]]]]\n",
            "mod = average\n",
            "A = [[[[ 0.02105773 -0.20328806 -0.40389855]]]\n",
            "\n",
            "\n",
            " [[[-0.22154621  0.51716526  0.48155844]]]]\n"
          ],
          "name": "stdout"
        }
      ]
    },
    {
      "cell_type": "code",
      "metadata": {
        "id": "c4wVI39sMW1l"
      },
      "source": [
        "def conv_backward(dZ, cache):\n",
        "    (A_prev,W,b,hparameters) = cache\n",
        "    (m,n_H_prev, n_W_prev, n_C_prev) = A_prev.shape\n",
        "    (f,f,n_C_prev, n_C) = W.shape\n",
        "  \n",
        "    stride = hparameters[\"stride\"]\n",
        "    pad = hparameters[\"pad\"]\n",
        "\n",
        "    (m,n_H, n_W, n_C) = dZ.shape\n",
        "\n",
        "    dA_prev = np.zeros((m,n_H_prev, n_W_prev, n_C_prev))\n",
        "    dW = np.zeros((f,f,n_C_prev, n_C))\n",
        "    db = np.zeros((1,1,1,n_C))\n",
        "\n",
        "    A_prev_pad = zero_pad(A_prev,pad)\n",
        "    dA_prev_pad = zero_pad(dA_prev,pad)\n",
        "\n",
        "    for i in range(m):\n",
        "\n",
        "      a_prev_pad = A_prev[i]\n",
        "      da_prev_pad = dA_prev_pad[i]\n",
        "\n",
        "      for h in range(n_H):\n",
        "        for w in range(n_W):\n",
        "          for c in range(n_C):\n",
        "            vert_start = h\n",
        "            vert_end = vert_start+f\n",
        "            horiz_start = w\n",
        "            horiz_end = horiz_start+f\n",
        "\n",
        "            a_slice = a_prev_pad[vert_start:vert_end, horiz_start:horiz_end,:]\n",
        "            da_prev_pad[vert_start:vert_end, horiz_start:horiz_end,:] += W[:,:,:,c] * dZ[i,h,w,c]\n",
        "            dW[:,:,:,c] += a_slice * dZ[i,h,w,c]\n",
        "            db[:,:,:,c] += dZ[i,h,w,c]\n",
        "\n",
        "      dA_prev[i,:,:,:] = da_prev_pad[pad:-pad,pad:-pad,:]\n",
        "\n",
        "    assert(dA_prev.shape == (m, n_H_prev, n_W_prev, n_C_prev))\n",
        "    return dA_prev, dW, db\n",
        "\n"
      ],
      "execution_count": null,
      "outputs": []
    },
    {
      "cell_type": "code",
      "metadata": {
        "id": "Npf4ZgpWPKk7"
      },
      "source": [
        "np.random.seed(1)\n",
        "\n",
        "dA, dW, db = conv_backward(Z,cache_conv)\n",
        "\n",
        "print('dA ortalama =', np.mean(dA))\n",
        "print('dW ortalama =', np.mean(dW))\n",
        "print('db ortalam =', np.mean(db))\n"
      ],
      "execution_count": null,
      "outputs": []
    },
    {
      "cell_type": "code",
      "metadata": {
        "id": "yDmPMjbtRTuK"
      },
      "source": [
        "def create_mask_from_window(x):\n",
        "  mask = x == np.max(x)\n",
        "  return mask"
      ],
      "execution_count": null,
      "outputs": []
    },
    {
      "cell_type": "code",
      "metadata": {
        "id": "4AUkEzOWRpbZ",
        "outputId": "53510c73-4359-4c06-82f2-511153454ad5",
        "colab": {
          "base_uri": "https://localhost:8080/",
          "height": 84
        }
      },
      "source": [
        "import numpy as np\n",
        "np.random.seed(1)\n",
        "x = np.random.randn(2,3)\n",
        "mask = create_mask_from_window(x)\n",
        "\n",
        "print('x =',x)\n",
        "print('maske =',mask)"
      ],
      "execution_count": null,
      "outputs": [
        {
          "output_type": "stream",
          "text": [
            "x = [[ 1.62434536 -0.61175641 -0.52817175]\n",
            " [-1.07296862  0.86540763 -2.3015387 ]]\n",
            "maske = [[ True False False]\n",
            " [False False False]]\n"
          ],
          "name": "stdout"
        }
      ]
    },
    {
      "cell_type": "code",
      "metadata": {
        "id": "pVwBkbs9SWa3"
      },
      "source": [
        "def distribute_value(dz,shape):\n",
        "  (n_H,n_W) = shape\n",
        "  average = dZ / (n_H * n_W)\n",
        "  a = np.ones(shape) * average\n",
        "  return a"
      ],
      "execution_count": null,
      "outputs": []
    },
    {
      "cell_type": "code",
      "metadata": {
        "id": "mGYj-pGczPCl"
      },
      "source": [
        "a = distribute_value(2,(2,2))\n",
        "print('Dağıtılmış değer =',a)"
      ],
      "execution_count": null,
      "outputs": []
    },
    {
      "cell_type": "code",
      "metadata": {
        "id": "lbMJR_8lz7Xo"
      },
      "source": [
        "def pool_backward(dA,cache,max):\n",
        "  (A_prev, hparameters) = cache\n",
        "  \n",
        "  stride = hparameters[\"stride\"]\n",
        "  f = hparameters[\"f\"]\n",
        "\n",
        "  m,n_H_prev, n_W_prev, n_C_prev = A_prev.shape\n",
        "  m,n_H, n_W, n_C = dA.shape\n",
        "  dA_prev = np.zeros(A_prev.shape)\n",
        "\n",
        "  for i in range(m):\n",
        "    a_prev = A_prev[i]\n",
        "    for h in range(n_H):\n",
        "      for w in range(n_W):\n",
        "        for c in range(n_C):\n",
        "          vert_start = h\n",
        "          vert_end = vert_start+f\n",
        "          horiz_start = w\n",
        "          horiz_end = horiz_start+f\n",
        "\n",
        "          if mode == \"max\":\n",
        "            a_prev_slice = a_prev[vert_start:vert_end, horiz_start:horiz_end,c]\n",
        "            mask = create_mask_from_window(a_prev_slice)\n",
        "            dA_prev[vert_start:vert_end, horiz_start:horiz_end,c] += np.multiply(mask, dA[i,h,w,c])\n",
        "          elif mode == \"average\":\n",
        "            da = dA[i,h,w,c]\n",
        "            shape = (f,f)\n",
        "            dA_prev[i, vert_start:vert_end, horiz_start:horiz_end,c] += np.distribute_value(da,shape)\n",
        "\n",
        "    assert(dA_prev.shape == A_prev.shape)\n",
        "    return dA_prev"
      ],
      "execution_count": null,
      "outputs": []
    },
    {
      "cell_type": "code",
      "metadata": {
        "id": "DagVA-vC3RRL",
        "outputId": "db4326f9-cc83-4fe8-f171-2a0ef6978c76",
        "colab": {
          "base_uri": "https://localhost:8080/",
          "height": 229
        }
      },
      "source": [
        "np.random.seed(1)\n",
        "\n",
        "A_prev = np.random.randn(5,5,3,2)\n",
        "hparameters = {\"stride\":1, \"f\":2}\n",
        "A, cache = pool_forward(A_prev,hparameters)\n",
        "dA = np.random.randn(5,4,2,2)\n",
        "\n",
        "dA_prev = pool_backward(dA,cache,mode=\"max\")\n",
        "print(\"mod = max\",)\n",
        "print(\"dA ortalaması: =\", np.mean(dA))\n",
        "print(\"dA_prev[1,1]\",dA_prev[1,1])\n",
        "\n",
        "dA_prev = pool_backward(dA,cache,mode=\"average\")\n",
        "print(\"mod = average\",)\n",
        "print(\"dA ortalaması: =\", np.mean(dA))\n",
        "print(\"dA_prev[1,1]\",dA_prev[1,1])\n"
      ],
      "execution_count": null,
      "outputs": [
        {
          "output_type": "error",
          "ename": "TypeError",
          "evalue": "ignored",
          "traceback": [
            "\u001b[0;31m---------------------------------------------------------------------------\u001b[0m",
            "\u001b[0;31mTypeError\u001b[0m                                 Traceback (most recent call last)",
            "\u001b[0;32m<ipython-input-29-f09f53e8dc0e>\u001b[0m in \u001b[0;36m<module>\u001b[0;34m()\u001b[0m\n\u001b[1;32m      6\u001b[0m \u001b[0mdA\u001b[0m \u001b[0;34m=\u001b[0m \u001b[0mnp\u001b[0m\u001b[0;34m.\u001b[0m\u001b[0mrandom\u001b[0m\u001b[0;34m.\u001b[0m\u001b[0mrandn\u001b[0m\u001b[0;34m(\u001b[0m\u001b[0;36m5\u001b[0m\u001b[0;34m,\u001b[0m\u001b[0;36m4\u001b[0m\u001b[0;34m,\u001b[0m\u001b[0;36m2\u001b[0m\u001b[0;34m,\u001b[0m\u001b[0;36m2\u001b[0m\u001b[0;34m)\u001b[0m\u001b[0;34m\u001b[0m\u001b[0;34m\u001b[0m\u001b[0m\n\u001b[1;32m      7\u001b[0m \u001b[0;34m\u001b[0m\u001b[0m\n\u001b[0;32m----> 8\u001b[0;31m \u001b[0mdA_prev\u001b[0m \u001b[0;34m=\u001b[0m \u001b[0mpool_backward\u001b[0m\u001b[0;34m(\u001b[0m\u001b[0mdA\u001b[0m\u001b[0;34m,\u001b[0m\u001b[0mcache\u001b[0m\u001b[0;34m,\u001b[0m\u001b[0mmode\u001b[0m\u001b[0;34m=\u001b[0m\u001b[0;34m\"max\"\u001b[0m\u001b[0;34m)\u001b[0m\u001b[0;34m\u001b[0m\u001b[0;34m\u001b[0m\u001b[0m\n\u001b[0m\u001b[1;32m      9\u001b[0m \u001b[0mprint\u001b[0m\u001b[0;34m(\u001b[0m\u001b[0;34m\"mod = max\"\u001b[0m\u001b[0;34m,\u001b[0m\u001b[0;34m)\u001b[0m\u001b[0;34m\u001b[0m\u001b[0;34m\u001b[0m\u001b[0m\n\u001b[1;32m     10\u001b[0m \u001b[0mprint\u001b[0m\u001b[0;34m(\u001b[0m\u001b[0;34m\"dA ortalaması: =\"\u001b[0m\u001b[0;34m,\u001b[0m \u001b[0mnp\u001b[0m\u001b[0;34m.\u001b[0m\u001b[0mmean\u001b[0m\u001b[0;34m(\u001b[0m\u001b[0mdA\u001b[0m\u001b[0;34m)\u001b[0m\u001b[0;34m)\u001b[0m\u001b[0;34m\u001b[0m\u001b[0;34m\u001b[0m\u001b[0m\n",
            "\u001b[0;31mTypeError\u001b[0m: pool_backward() got an unexpected keyword argument 'mode'"
          ]
        }
      ]
    }
  ]
}
