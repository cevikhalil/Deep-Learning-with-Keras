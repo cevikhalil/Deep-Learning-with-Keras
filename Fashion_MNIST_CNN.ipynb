{
  "nbformat": 4,
  "nbformat_minor": 0,
  "metadata": {
    "colab": {
      "name": "Fashion_MNIST_CNN.ipynb",
      "provenance": [],
      "collapsed_sections": []
    },
    "kernelspec": {
      "name": "python3",
      "display_name": "Python 3"
    },
    "accelerator": "GPU"
  },
  "cells": [
    {
      "cell_type": "markdown",
      "metadata": {
        "id": "UN5hoeJa_tfv"
      },
      "source": [
        "**Fashion-MNIST - Evrişimli Sinir Ağı** \n",
        "---\n",
        "\n",
        "\n"
      ]
    },
    {
      "cell_type": "markdown",
      "metadata": {
        "id": "Qs1XkC0joINs"
      },
      "source": [
        "**Colab** için kimlik doğrulama işlemler..."
      ]
    },
    {
      "cell_type": "code",
      "metadata": {
        "id": "DaQhxdRZw18A",
        "outputId": "4732701d-cef6-4f08-f7b1-55323fda3e87",
        "colab": {
          "base_uri": "https://localhost:8080/",
          "height": 139
        }
      },
      "source": [
        "from google.colab import drive\n",
        "drive.mount('/gdrive')\n",
        "%cd /gdrive"
      ],
      "execution_count": null,
      "outputs": [
        {
          "output_type": "stream",
          "text": [
            "Go to this URL in a browser: https://accounts.google.com/o/oauth2/auth?client_id=947318989803-6bn6qk8qdgf4n4g3pfee6491hc0brc4i.apps.googleusercontent.com&redirect_uri=urn%3aietf%3awg%3aoauth%3a2.0%3aoob&response_type=code&scope=email%20https%3a%2f%2fwww.googleapis.com%2fauth%2fdocs.test%20https%3a%2f%2fwww.googleapis.com%2fauth%2fdrive%20https%3a%2f%2fwww.googleapis.com%2fauth%2fdrive.photos.readonly%20https%3a%2f%2fwww.googleapis.com%2fauth%2fpeopleapi.readonly\n",
            "\n",
            "Enter your authorization code:\n",
            "··········\n",
            "Mounted at /gdrive\n",
            "/gdrive\n"
          ],
          "name": "stdout"
        }
      ]
    },
    {
      "cell_type": "code",
      "metadata": {
        "id": "BnTjdmonw9CH"
      },
      "source": [
        "import os\n",
        "\n",
        "os.chdir('/gdrive/My Drive/NesneTanima/')"
      ],
      "execution_count": null,
      "outputs": []
    },
    {
      "cell_type": "code",
      "metadata": {
        "id": "Jbkql3_pxHPz",
        "outputId": "543b5b50-a9bc-4203-9763-6f2d435d8c30",
        "colab": {
          "base_uri": "https://localhost:8080/",
          "height": 68
        }
      },
      "source": [
        "!ls"
      ],
      "execution_count": null,
      "outputs": [
        {
          "output_type": "stream",
          "text": [
            "drive\t\t\t ResNet50_NesneTanima_ImageNet.ipynb\n",
            "Fashion_MNIST_CNN.ipynb  save_models\n",
            "images\t\t\t VGG16_NesneTanima.ipynb\n"
          ],
          "name": "stdout"
        }
      ]
    },
    {
      "cell_type": "markdown",
      "metadata": {
        "id": "545giQNWoNj_"
      },
      "source": [
        "\n",
        "\n",
        "```\n",
        "# Bu, kod olarak biçimlendirilmiştir\n",
        "```\n",
        "\n",
        "### Kütüphane kurulumu"
      ]
    },
    {
      "cell_type": "code",
      "metadata": {
        "id": "eqTqIuUSxMiN"
      },
      "source": [
        "!pip3 install -q keras"
      ],
      "execution_count": null,
      "outputs": []
    },
    {
      "cell_type": "markdown",
      "metadata": {
        "id": "Sifzs-gNoUfR"
      },
      "source": [
        "### Fashion MNIST veri setine bir gözatalım!\n",
        "\n",
        "*   Liste öğesi\n",
        "*   Liste öğesi\n",
        "\n"
      ]
    },
    {
      "cell_type": "markdown",
      "metadata": {
        "id": "n66L733VAvs6"
      },
      "source": [
        "\n",
        "![alt text](https://github.com/zalandoresearch/fashion-mnist/raw/master/doc/img/fashion-mnist-sprite.png)\n",
        "![alt text](https://github.com/zalandoresearch/fashion-mnist/raw/master/doc/img/embedding.gif)"
      ]
    },
    {
      "cell_type": "markdown",
      "metadata": {
        "id": "ZaVXdS6NoGH8"
      },
      "source": [
        "**Gerekli paketler yükleniyor...**"
      ]
    },
    {
      "cell_type": "code",
      "metadata": {
        "id": "RtR7CVB6xZmR"
      },
      "source": [
        "from __future__ import print_function\n",
        "import keras\n",
        "from keras.datasets import fashion_mnist\n",
        "from keras.models import load_model\n",
        "import os\n",
        "import numpy as np\n",
        "\n",
        "import matplotlib.pyplot as plt\n",
        "from matplotlib import cm\n",
        "%matplotlib inline\n",
        "\n",
        "import random"
      ],
      "execution_count": null,
      "outputs": []
    },
    {
      "cell_type": "markdown",
      "metadata": {
        "id": "LXLG2zmcod-C"
      },
      "source": [
        "**Verileri internet üzerinden çekelim!**"
      ]
    },
    {
      "cell_type": "code",
      "metadata": {
        "id": "oYU310kdx6qt",
        "outputId": "4380f354-06de-4c3e-d8e4-305ac526042e",
        "colab": {
          "base_uri": "https://localhost:8080/",
          "height": 235
        }
      },
      "source": [
        "# Veri setlerini yükleme\n",
        "(x_train, y_train), (x_test, y_test) = fashion_mnist.load_data()\n",
        "\n",
        "print('x_train shape:', x_train.shape)\n",
        "print(x_train.shape[0], 'eğitim örnekleri')\n",
        "print(x_test.shape[0], 'test örnekleri')\n",
        "\n",
        "print(x_train.shape, y_train.shape)\n",
        "print(x_test.shape, y_test.shape)\n"
      ],
      "execution_count": null,
      "outputs": [
        {
          "output_type": "stream",
          "text": [
            "Downloading data from https://storage.googleapis.com/tensorflow/tf-keras-datasets/train-labels-idx1-ubyte.gz\n",
            "32768/29515 [=================================] - 0s 0us/step\n",
            "Downloading data from https://storage.googleapis.com/tensorflow/tf-keras-datasets/train-images-idx3-ubyte.gz\n",
            "26427392/26421880 [==============================] - 0s 0us/step\n",
            "Downloading data from https://storage.googleapis.com/tensorflow/tf-keras-datasets/t10k-labels-idx1-ubyte.gz\n",
            "8192/5148 [===============================================] - 0s 0us/step\n",
            "Downloading data from https://storage.googleapis.com/tensorflow/tf-keras-datasets/t10k-images-idx3-ubyte.gz\n",
            "4423680/4422102 [==============================] - 0s 0us/step\n",
            "x_train shape: (60000, 28, 28)\n",
            "60000 eğitim örnekleri\n",
            "10000 test örnekleri\n",
            "(60000, 28, 28) (60000,)\n",
            "(10000, 28, 28) (10000,)\n"
          ],
          "name": "stdout"
        }
      ]
    },
    {
      "cell_type": "markdown",
      "metadata": {
        "id": "v1xwJctOokmO"
      },
      "source": [
        "Veriler içinden bir örnek görelim :)"
      ]
    },
    {
      "cell_type": "code",
      "metadata": {
        "id": "h7DNnGZDy58O",
        "outputId": "990e2482-3469-4ec8-d5da-18272612cfdf",
        "colab": {
          "base_uri": "https://localhost:8080/",
          "height": 282
        }
      },
      "source": [
        "plt.imshow(x_test[10], cmap='gray')"
      ],
      "execution_count": null,
      "outputs": [
        {
          "output_type": "execute_result",
          "data": {
            "text/plain": [
              "<matplotlib.image.AxesImage at 0x7fe08f4b8828>"
            ]
          },
          "metadata": {
            "tags": []
          },
          "execution_count": 4
        },
        {
          "output_type": "display_data",
          "data": {
            "image/png": "[encoded data removed]",
            "text/plain": [
              "<Figure size 432x288 with 1 Axes>"
            ]
          },
          "metadata": {
            "tags": [],
            "needs_background": "light"
          }
        }
      ]
    },
    {
      "cell_type": "markdown",
      "metadata": {
        "id": "oVwn5gxhoqKM"
      },
      "source": [
        "### 10 sınıftan oluşan Fashion MNIST veri kümesinde hangi sınıflar var bakalım!"
      ]
    },
    {
      "cell_type": "code",
      "metadata": {
        "id": "mB_nNTyEzIer"
      },
      "source": [
        "fashion_mnist_labels = np.array([\n",
        "                                'Tişört/Üst',\n",
        "                                 'Pantolon',\n",
        "                                 'Kazak',\n",
        "                                 'Elbise',\n",
        "                                 'Ceket',\n",
        "                                 'Sandalet',\n",
        "                                 'Gömlek',\n",
        "                                 'Sneaker',\n",
        "                                 'Çanta',\n",
        "                                 'Bilekte Bot'])"
      ],
      "execution_count": null,
      "outputs": []
    },
    {
      "cell_type": "markdown",
      "metadata": {
        "id": "7VZ9ES2Goxji"
      },
      "source": [
        "**Daha önce eğitilmiş olan modelin ağırlıklarını` model_fashion-mnist_cnn_train2_epoch24.h5`dosyasından çekelim ve giriş görüntülerini model girişine uygun şekilde ön işlemlerden geçirelim!**"
      ]
    },
    {
      "cell_type": "code",
      "metadata": {
        "id": "DTfqwfAvt1jJ",
        "outputId": "4c3cd7a3-2eed-4c93-a471-d91f03550298",
        "colab": {
          "base_uri": "https://localhost:8080/",
          "height": 229
        }
      },
      "source": [
        "root = '/gdrive/My Drive/NesneTanima/save_models/'\n",
        "model = load_model(root + 'model_fashion-mnist_cnn_train2_epoch24.h5')\n",
        "\n",
        "def convertMnistData(image):\n",
        "    img = image.astype('float32')\n",
        "    img /= 255\n",
        "\n",
        "    return image.reshape(1,28,28,1)\n",
        "\n",
        "plt.figure(figsize=(16,16))\n",
        "\n",
        "right = 0\n",
        "mistake = 0\n",
        "prefictionNum = 200\n",
        "\n",
        "for i in range(prefictionNum):\n",
        "    index = random.randint(0, x_test.shape[0])\n",
        "    image = x_test[index]\n",
        "    data = convertMnistData(image)\n",
        "\n",
        "    plt.subplot(10, 10, i+1)\n",
        "    plt.imshow(image,  cmap=cm.gray_r)\n",
        "    plt.axis('off')\n",
        "\n",
        "    ret = model.predict(data, batch_size=1) \n",
        "    #yazdır(ret)\n",
        "\n",
        "    bestnum = 0.0\n",
        "    bestclass = 0\n",
        "    for n in [0,1,2,3,4,5,6,7,8,9]:\n",
        "        if bestnum < ret[0][n]:\n",
        "            bestnum = ret[0][n]\n",
        "            bestclass = n\n",
        "\n",
        "    if y_test[index] == bestclass:\n",
        "        plt.title(fashion_mnist_labels[bestclass])\n",
        "        right += 1\n",
        "    else:\n",
        "        #tahmin edilen sınıf != gerçek sınıf\n",
        "        plt.title(fashion_mnist_labels[bestclass] + \"!=\" + fashion_mnist_labels[y_test[index]], color='#ff0000')\n",
        "        mistake += 1"
      ],
      "execution_count": null,
      "outputs": [
        {
          "output_type": "error",
          "ename": "NameError",
          "evalue": "ignored",
          "traceback": [
            "\u001b[0;31m---------------------------------------------------------------------------\u001b[0m",
            "\u001b[0;31mNameError\u001b[0m                                 Traceback (most recent call last)",
            "\u001b[0;32m<ipython-input-1-61f57b530b3c>\u001b[0m in \u001b[0;36m<module>\u001b[0;34m()\u001b[0m\n\u001b[1;32m      1\u001b[0m \u001b[0mroot\u001b[0m \u001b[0;34m=\u001b[0m \u001b[0;34m'/gdrive/My Drive/NesneTanima/save_models/'\u001b[0m\u001b[0;34m\u001b[0m\u001b[0;34m\u001b[0m\u001b[0m\n\u001b[0;32m----> 2\u001b[0;31m \u001b[0mmodel\u001b[0m \u001b[0;34m=\u001b[0m \u001b[0mload_model\u001b[0m\u001b[0;34m(\u001b[0m\u001b[0mroot\u001b[0m \u001b[0;34m+\u001b[0m \u001b[0;34m'model_fashion-mnist_cnn_train2_epoch24.h5'\u001b[0m\u001b[0;34m)\u001b[0m\u001b[0;34m\u001b[0m\u001b[0;34m\u001b[0m\u001b[0m\n\u001b[0m\u001b[1;32m      3\u001b[0m \u001b[0;34m\u001b[0m\u001b[0m\n\u001b[1;32m      4\u001b[0m \u001b[0;32mdef\u001b[0m \u001b[0mconvertMnistData\u001b[0m\u001b[0;34m(\u001b[0m\u001b[0mimage\u001b[0m\u001b[0;34m)\u001b[0m\u001b[0;34m:\u001b[0m\u001b[0;34m\u001b[0m\u001b[0;34m\u001b[0m\u001b[0m\n\u001b[1;32m      5\u001b[0m     \u001b[0mimg\u001b[0m \u001b[0;34m=\u001b[0m \u001b[0mimage\u001b[0m\u001b[0;34m.\u001b[0m\u001b[0mastype\u001b[0m\u001b[0;34m(\u001b[0m\u001b[0;34m'float32'\u001b[0m\u001b[0;34m)\u001b[0m\u001b[0;34m\u001b[0m\u001b[0;34m\u001b[0m\u001b[0m\n",
            "\u001b[0;31mNameError\u001b[0m: name 'load_model' is not defined"
          ]
        }
      ]
    },
    {
      "cell_type": "code",
      "metadata": {
        "id": "YV62Bwip5cqS",
        "outputId": "f6bbfac7-7d11-4bdf-e7f9-1a6859665291",
        "colab": {
          "base_uri": "https://localhost:8080/",
          "height": 68
        }
      },
      "source": [
        "plt.show()\n",
        "print(\"Doğru tahminlerin sayısı:\", right)\n",
        "print(\"Hata sayısı:\", mistake)\n",
        "print(\"Doğru tahmin oranı:\", right/(mistake + right)*100, '%')"
      ],
      "execution_count": null,
      "outputs": [
        {
          "output_type": "stream",
          "text": [
            "Doğru tahminlerin sayısı: 86\n",
            "Hata sayısı: 14\n",
            "Doğru tahmin oranı: 86.0 %\n"
          ],
          "name": "stdout"
        }
      ]
    },
    {
      "cell_type": "code",
      "metadata": {
        "id": "qnqlrKTc6Uvx"
      },
      "source": [
        ""
      ],
      "execution_count": null,
      "outputs": []
    }
  ]
}