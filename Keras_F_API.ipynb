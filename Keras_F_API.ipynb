{
  "nbformat": 4,
  "nbformat_minor": 0,
  "metadata": {
    "colab": {
      "name": "Keras_F_API.ipynb",
      "provenance": [],
      "collapsed_sections": [
        "YgLmrSF1huyb"
      ]
    },
    "kernelspec": {
      "name": "python3",
      "display_name": "Python 3"
    }
  },
  "cells": [
    {
      "cell_type": "markdown",
      "metadata": {
        "id": "B0bhvJlhheiu"
      },
      "source": [
        "Kimlik Doğrulama"
      ]
    },
    {
      "cell_type": "code",
      "metadata": {
        "id": "m4Bw7zkphhmo",
        "outputId": "17ba50b7-67cc-4157-e8da-e9736724b0c1",
        "colab": {
          "base_uri": "https://localhost:8080/",
          "height": 50
        }
      },
      "source": [
        "from google.colab import drive\n",
        "drive.mount('/gdrive')\n",
        "%cd /gdrive"
      ],
      "execution_count": null,
      "outputs": [
        {
          "output_type": "stream",
          "text": [
            "Drive already mounted at /gdrive; to attempt to forcibly remount, call drive.mount(\"/gdrive\", force_remount=True).\n",
            "/gdrive\n"
          ],
          "name": "stdout"
        }
      ]
    },
    {
      "cell_type": "markdown",
      "metadata": {
        "id": "YgLmrSF1huyb"
      },
      "source": [
        "Kütüphanelerin Kurulması"
      ]
    },
    {
      "cell_type": "code",
      "metadata": {
        "id": "y4sX8MTdhxbO"
      },
      "source": [
        "from keras import Input, layers\n",
        "from keras.models import Sequential, Model"
      ],
      "execution_count": null,
      "outputs": []
    },
    {
      "cell_type": "code",
      "metadata": {
        "id": "QYeFJiXyh6Z2"
      },
      "source": [
        "input_tensor = Input((32,))\n",
        "dense = layers.Dense(32,activation='relu')\n",
        "output_tensor = dense(input_tensor)"
      ],
      "execution_count": null,
      "outputs": []
    },
    {
      "cell_type": "markdown",
      "metadata": {
        "id": "ZOio6AkArpWu"
      },
      "source": [
        "Sequential Model\n"
      ]
    },
    {
      "cell_type": "code",
      "metadata": {
        "id": "ZMXVdliciOuB",
        "outputId": "315dd70e-c6f9-4f3b-b292-520375b381fc",
        "colab": {
          "base_uri": "https://localhost:8080/",
          "height": 252
        }
      },
      "source": [
        "seq_model = Sequential()\n",
        "seq_model.add(layers.Dense(32, activation ='relu', input_shape=(64, )))\n",
        "seq_model.add(layers.Dense(32, activation ='relu'))\n",
        "seq_model.add(layers.Dense(10, activation ='sigmoid'))\n",
        "\n",
        "seq_model.summary()"
      ],
      "execution_count": null,
      "outputs": [
        {
          "output_type": "stream",
          "text": [
            "Model: \"sequential_1\"\n",
            "_________________________________________________________________\n",
            "Layer (type)                 Output Shape              Param #   \n",
            "=================================================================\n",
            "dense_8 (Dense)              (None, 32)                2080      \n",
            "_________________________________________________________________\n",
            "dense_9 (Dense)              (None, 32)                1056      \n",
            "_________________________________________________________________\n",
            "dense_10 (Dense)             (None, 10)                330       \n",
            "=================================================================\n",
            "Total params: 3,466\n",
            "Trainable params: 3,466\n",
            "Non-trainable params: 0\n",
            "_________________________________________________________________\n"
          ],
          "name": "stdout"
        }
      ]
    },
    {
      "cell_type": "markdown",
      "metadata": {
        "id": "OMgTsOnIiaOF"
      },
      "source": [
        "Functional Model"
      ]
    },
    {
      "cell_type": "code",
      "metadata": {
        "id": "jvfusgJRihtg",
        "outputId": "c68e18d7-5f60-44c0-83d4-e9134d41446d",
        "colab": {
          "base_uri": "https://localhost:8080/",
          "height": 286
        }
      },
      "source": [
        "input_tensor = Input(shape = (64,))\n",
        "x = layers.Dense(32, activation='relu')(input_tensor)\n",
        "x =layers.Dense(32, activation='relu')(x)\n",
        "output_tensor = layers.Dense(10, activation='softmax')(x)\n",
        "model = Model(input_tensor, output_tensor)\n",
        "model.summary()"
      ],
      "execution_count": null,
      "outputs": [
        {
          "output_type": "stream",
          "text": [
            "Model: \"functional_3\"\n",
            "_________________________________________________________________\n",
            "Layer (type)                 Output Shape              Param #   \n",
            "=================================================================\n",
            "input_4 (InputLayer)         [(None, 64)]              0         \n",
            "_________________________________________________________________\n",
            "dense_11 (Dense)             (None, 32)                2080      \n",
            "_________________________________________________________________\n",
            "dense_12 (Dense)             (None, 32)                1056      \n",
            "_________________________________________________________________\n",
            "dense_13 (Dense)             (None, 10)                330       \n",
            "=================================================================\n",
            "Total params: 3,466\n",
            "Trainable params: 3,466\n",
            "Non-trainable params: 0\n",
            "_________________________________________________________________\n"
          ],
          "name": "stdout"
        }
      ]
    },
    {
      "cell_type": "markdown",
      "metadata": {
        "id": "jPs4BO0KitUa"
      },
      "source": [
        "Modelin Derlenmesi"
      ]
    },
    {
      "cell_type": "code",
      "metadata": {
        "id": "WiZlmgQHixbO"
      },
      "source": [
        "model.compile(optimizer='rmsprop', loss = 'categorical_crossentropy', metrics=['accuracy'])"
      ],
      "execution_count": null,
      "outputs": []
    },
    {
      "cell_type": "code",
      "metadata": {
        "id": "XOKGSBBpjI-t"
      },
      "source": [
        "import numpy as np\n",
        "x_train = np.random.random((1000, 64))\n",
        "y_train = np.random.random((1000, 10))\n"
      ],
      "execution_count": null,
      "outputs": []
    },
    {
      "cell_type": "markdown",
      "metadata": {
        "id": "472lWcWrjN1P"
      },
      "source": [
        "Modelin Eğitilmesi"
      ]
    },
    {
      "cell_type": "code",
      "metadata": {
        "id": "qH-5ESipjQdt",
        "outputId": "4611d9ba-7000-46be-dbc3-3268dea9eec2",
        "colab": {
          "base_uri": "https://localhost:8080/",
          "height": 370
        }
      },
      "source": [
        "model.fit(x_train, y_train, epochs = 10,batch_size = 128)\n",
        "score = model.evaluate(x_train, y_train)"
      ],
      "execution_count": null,
      "outputs": [
        {
          "output_type": "stream",
          "text": [
            "Epoch 1/10\n",
            "8/8 [==============================] - 0s 2ms/step - loss: 97.5473 - accuracy: 0.0920\n",
            "Epoch 2/10\n",
            "8/8 [==============================] - 0s 2ms/step - loss: 92.1265 - accuracy: 0.1180\n",
            "Epoch 3/10\n",
            "8/8 [==============================] - 0s 2ms/step - loss: 78.3784 - accuracy: 0.1070\n",
            "Epoch 4/10\n",
            "8/8 [==============================] - 0s 2ms/step - loss: 76.9617 - accuracy: 0.1060\n",
            "Epoch 5/10\n",
            "8/8 [==============================] - 0s 2ms/step - loss: 85.9863 - accuracy: 0.1020\n",
            "Epoch 6/10\n",
            "8/8 [==============================] - 0s 3ms/step - loss: 83.4859 - accuracy: 0.1020\n",
            "Epoch 7/10\n",
            "8/8 [==============================] - 0s 2ms/step - loss: 96.0320 - accuracy: 0.1000\n",
            "Epoch 8/10\n",
            "8/8 [==============================] - 0s 2ms/step - loss: 92.9879 - accuracy: 0.0960\n",
            "Epoch 9/10\n",
            "8/8 [==============================] - 0s 2ms/step - loss: 81.9029 - accuracy: 0.0890\n",
            "Epoch 10/10\n",
            "8/8 [==============================] - 0s 2ms/step - loss: 98.8607 - accuracy: 0.0860\n",
            "32/32 [==============================] - 0s 961us/step - loss: 87.9745 - accuracy: 0.1090\n"
          ],
          "name": "stdout"
        }
      ]
    }
  ]
}